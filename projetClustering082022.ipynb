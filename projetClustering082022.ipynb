{
 "cells": [
  {
   "cell_type": "code",
   "execution_count": 50,
   "metadata": {},
   "outputs": [
    {
     "data": {
      "text/html": [
       "<div>\n",
       "<style scoped>\n",
       "    .dataframe tbody tr th:only-of-type {\n",
       "        vertical-align: middle;\n",
       "    }\n",
       "\n",
       "    .dataframe tbody tr th {\n",
       "        vertical-align: top;\n",
       "    }\n",
       "\n",
       "    .dataframe thead th {\n",
       "        text-align: right;\n",
       "    }\n",
       "</style>\n",
       "<table border=\"1\" class=\"dataframe\">\n",
       "  <thead>\n",
       "    <tr style=\"text-align: right;\">\n",
       "      <th></th>\n",
       "      <th>Unnamed: 0</th>\n",
       "      <th>date</th>\n",
       "      <th>sender</th>\n",
       "      <th>recipient1</th>\n",
       "      <th>subject</th>\n",
       "      <th>text</th>\n",
       "    </tr>\n",
       "  </thead>\n",
       "  <tbody>\n",
       "    <tr>\n",
       "      <th>0</th>\n",
       "      <td>0</td>\n",
       "      <td>2001-05-14 16:39:00-07:00</td>\n",
       "      <td>phillip.allen@enron.com</td>\n",
       "      <td>tim.belden@enron.com</td>\n",
       "      <td>NaN</td>\n",
       "      <td>['', 'Here is our forecast', '', ' ']</td>\n",
       "    </tr>\n",
       "    <tr>\n",
       "      <th>1</th>\n",
       "      <td>1</td>\n",
       "      <td>2001-05-04 13:51:00-07:00</td>\n",
       "      <td>phillip.allen@enron.com</td>\n",
       "      <td>john.lavorato@enron.com</td>\n",
       "      <td>Re:</td>\n",
       "      <td>['', 'Traveling to have a business meeting tak...</td>\n",
       "    </tr>\n",
       "    <tr>\n",
       "      <th>2</th>\n",
       "      <td>2</td>\n",
       "      <td>2000-10-18 03:00:00-07:00</td>\n",
       "      <td>phillip.allen@enron.com</td>\n",
       "      <td>leah.arsdall@enron.com</td>\n",
       "      <td>Re: test</td>\n",
       "      <td>['', 'test successful.  way to go!!!']</td>\n",
       "    </tr>\n",
       "    <tr>\n",
       "      <th>3</th>\n",
       "      <td>3</td>\n",
       "      <td>2000-10-23 06:13:00-07:00</td>\n",
       "      <td>phillip.allen@enron.com</td>\n",
       "      <td>randall.gay@enron.com</td>\n",
       "      <td>NaN</td>\n",
       "      <td>['', 'Randy,', '', ' Can you send me a schedul...</td>\n",
       "    </tr>\n",
       "    <tr>\n",
       "      <th>4</th>\n",
       "      <td>4</td>\n",
       "      <td>2000-08-31 05:07:00-07:00</td>\n",
       "      <td>phillip.allen@enron.com</td>\n",
       "      <td>greg.piper@enron.com</td>\n",
       "      <td>Re: Hello</td>\n",
       "      <td>['', \"Let's shoot for Tuesday at 11:45.  \"]</td>\n",
       "    </tr>\n",
       "  </tbody>\n",
       "</table>\n",
       "</div>"
      ],
      "text/plain": [
       "   Unnamed: 0                       date                   sender  \\\n",
       "0           0  2001-05-14 16:39:00-07:00  phillip.allen@enron.com   \n",
       "1           1  2001-05-04 13:51:00-07:00  phillip.allen@enron.com   \n",
       "2           2  2000-10-18 03:00:00-07:00  phillip.allen@enron.com   \n",
       "3           3  2000-10-23 06:13:00-07:00  phillip.allen@enron.com   \n",
       "4           4  2000-08-31 05:07:00-07:00  phillip.allen@enron.com   \n",
       "\n",
       "                recipient1    subject  \\\n",
       "0     tim.belden@enron.com        NaN   \n",
       "1  john.lavorato@enron.com        Re:   \n",
       "2   leah.arsdall@enron.com   Re: test   \n",
       "3    randall.gay@enron.com        NaN   \n",
       "4     greg.piper@enron.com  Re: Hello   \n",
       "\n",
       "                                                text  \n",
       "0              ['', 'Here is our forecast', '', ' ']  \n",
       "1  ['', 'Traveling to have a business meeting tak...  \n",
       "2             ['', 'test successful.  way to go!!!']  \n",
       "3  ['', 'Randy,', '', ' Can you send me a schedul...  \n",
       "4        ['', \"Let's shoot for Tuesday at 11:45.  \"]  "
      ]
     },
     "execution_count": 50,
     "metadata": {},
     "output_type": "execute_result"
    }
   ],
   "source": [
    "import pandas as pd\n",
    "# Pour limiter les temps de calcul on travaille uniquement sur les 'nrows' premiers mails\n",
    "df = pd.read_csv(\"/Users/franckglastre/emaildata_100000_0.csv\", nrows=200)\n",
    "#df = pd.read_csv(\"emaildata_100000_0.csv\", nrows=200)\n",
    "df.head()"
   ]
  },
  {
   "cell_type": "code",
   "execution_count": 51,
   "metadata": {},
   "outputs": [],
   "source": [
    "df = df.rename(columns={'sender': 'from', 'recipient1': 'to','subject': 'header', 'text': 'body'})\n"
   ]
  },
  {
   "cell_type": "code",
   "execution_count": 52,
   "metadata": {},
   "outputs": [],
   "source": [
    "# préparation du corpus de mots avec fonction de nettoyage\n",
    "import re\n",
    "def data_cleanstr(string):\n",
    "    r = re.compile(r'[a-zA-Z0-9.-]*@[a-zA-Z0-9.-]*')\n",
    "    tok=r.sub('mail', string)\n",
    "    \n",
    "    r = re.compile(r\"([^a-zA-Z]+)\")\n",
    "    tok1=r.sub(' ', tok)\n",
    "    return tok1\n",
    "    \n",
    "    "
   ]
  },
  {
   "cell_type": "code",
   "execution_count": 53,
   "metadata": {},
   "outputs": [],
   "source": [
    "# préparation fonction stopwords\n",
    "\n",
    "\n",
    "def remove_stop_words(text):\n",
    "    import spacy\n",
    "    from spacy.lang.en.stop_words import STOP_WORDS\n",
    "    stopwords=list(STOP_WORDS)\n",
    "    lst=[]\n",
    "\n",
    "    for token in text.split():\n",
    "        if token.lower() not in stopwords:    #checking whether the word is not \n",
    "            lst.append(token)                    #present in the stopword list.      \n",
    "            result = ' '.join(lst)\n",
    "    return result"
   ]
  },
  {
   "cell_type": "code",
   "execution_count": 54,
   "metadata": {},
   "outputs": [],
   "source": [
    "# tokenisation du corpus de mots, utilisation de la fonction de nettoyage et mise en minuscules\n",
    "texte=[]\n",
    "phrases=\"\"\n",
    "from nltk.tokenize import word_tokenize\n",
    "\n",
    "for i in df['body']:\n",
    "    phrases+=i  \n",
    "a=data_cleanstr(str(phrases))\n",
    "a_sans=remove_stop_words(a)\n",
    "mots=word_tokenize(a)\n",
    "mots_sans=word_tokenize(a_sans)\n",
    "\n",
    "# liste contenant le corpus de mots, le premier avec les stopwords, le second sans les stopswords --> épuré des chiffres,\n",
    "# et des signes de punctuations ou autres\n",
    "\n",
    "mots=[i.lower() for i in mots]\n",
    "mots_sans=[i.lower() for i in mots_sans]\n",
    "\n"
   ]
  },
  {
   "cell_type": "code",
   "execution_count": 55,
   "metadata": {},
   "outputs": [
    {
     "name": "stdout",
     "output_type": "stream",
     "text": [
      "{'zuniga': 3359, 'zub': 3358, 'zoning': 3357, 'zimin': 3356, 'zavala': 3355, 'zarsky': 3354, 'zarin': 3353, 'yzaguirre': 3352, 'yy': 3351, 'yuan': 3350, 'yowman': 3349, 'yourself': 3348, 'yours': 3347, 'your': 3346, 'you': 3345, 'yolanda': 3344, 'yj': 3343, 'yet': 3342, 'yesterday': 3341, 'yes': 3340, 'yellow': 3339, 'years': 3338, 'year': 3337, 'yates': 3336, 'yahoo': 3335, 'xls': 3334, 'www': 3333, 'wukasch': 3332, 'wsccnav': 3331, 'wscc': 3330, 'wrote': 3329, 'wrong': 3328, 'written': 3327, 'write': 3326, 'would': 3325, 'worth': 3324, 'worried': 3323, 'world': 3322, 'worksheet': 3321, 'works': 3320, 'working': 3319, 'worked': 3318, 'work': 3317, 'word': 3316, 'wood': 3315, 'wong': 3314, 'wolfe': 3313, 'without': 3312, 'within': 3311, 'withdrawing': 3310, 'withdrawals': 3309, 'withdrawal': 3308, 'with': 3307, 'wish': 3306, 'winter': 3305, 'winner': 3304, 'winmail': 3303, 'window': 3302, 'wind': 3301, 'win': 3300, 'willing': 3299, 'williams': 3298, 'william': 3297, 'will': 3296, 'wilchynski': 3295, 'wife': 3294, 'width': 3293, 'wider': 3292, 'widening': 3291, 'wide': 3290, 'why': 3289, 'whom': 3288, 'wholesale': 3287, 'who': 3286, 'whitt': 3285, 'white': 3284, 'while': 3283, 'which': 3282, 'whether': 3281, 'where': 3280, 'whenever': 3279, 'when': 3278, 'whatever': 3277, 'what': 3276, 'westgate': 3275, 'westgasx': 3274, 'western': 3273, 'westbrook': 3272, 'west': 3271, 'wesley': 3270, 'wes': 3269, 'were': 3268, 'wentworth': 3267, 'well': 3266, 'weeks': 3265, 'weekly': 3264, 'weekend': 3263, 'week': 3262, 'wednesday': 3261, 'wed': 3260, 'website': 3259, 'weber': 3258, 'webcl': 3257, 'webber': 3256, 'web': 3255, 'weather': 3254, 'we': 3253, 'way': 3252, 'watson': 3251, 'water': 3250, 'watching': 3249, 'washington': 3248, 'was': 3247, 'warren': 3246, 'warehousing': 3245, 'ward': 3244, 'wants': 3243, 'wanted': 3242, 'want': 3241, 'walters': 3240, 'walmart': 3239, 'wal': 3238, 'waived': 3237, 'waiting': 3236, 'wait': 3235, 'waha': 3234, 'wade': 3233, 'vs': 3232, 'vp': 3231, 'vouch': 3230, 'voting': 3229, 'volumes': 3228, 'volume': 3227, 'volatility': 3226, 'voice': 3225, 'vladimir': 3224, 'vital': 3223, 'visit': 3222, 'vision': 3221, 'violation': 3220, 'vince': 3219, 'ville': 3218, 'villarreal': 3217, 'villa': 3216, 'viewing': 3215, 'view': 3214, 'victor': 3213, 'vickers': 3212, 'vice': 3211, 'via': 3210, 'very': 3209, 'vertebra': 3208, 'versus': 3207, 'version': 3206, 'vernon': 3205, 'ventures': 3204, 'vendors': 3203, 'vendor': 3202, 'vehicles': 3201, 'vehicle': 3200, 've': 3199, 'vc': 3198, 'vasant': 3197, 'various': 3196, 'variety': 3195, 'varies': 3194, 'variable': 3193, 'var': 3192, 'van': 3191, 'values': 3190, 'valued': 3189, 'value': 3188, 'valuations': 3187, 'valuation': 3186, 'validity': 3185, 'valid': 3184, 'valeria': 3183, 'vague': 3182, 'vacation': 3181, 'vacancies': 3180, 'utility': 3179, 'utilities': 3178, 'usually': 3177, 'using': 3176, 'uses': 3175, 'user': 3174, 'useful': 3173, 'used': 3172, 'use': 3171, 'usage': 3170, 'us': 3169, 'urgent': 3168, 'upto': 3167, 'upon': 3166, 'updating': 3165, 'updates': 3164, 'updated': 3163, 'update': 3162, 'up': 3161, 'uom': 3160, 'unusual': 3159, 'until': 3158, 'unsubscribe': 3157, 'unlikely': 3156, 'unlike': 3155, 'unless': 3154, 'university': 3153, 'units': 3152, 'unit': 3151, 'unique': 3150, 'uninstructed': 3149, 'unhedged': 3148, 'unfamiliar': 3147, 'uneven': 3146, 'undiscounted': 3145, 'undeveloped': 3144, 'undervalued': 3143, 'undertake': 3142, 'understood': 3141, 'understanding': 3140, 'understand': 3139, 'undercuts': 3138, 'under': 3137, 'uncovered': 3136, 'unable': 3135, 'ultimately': 3134, 'ultimate': 3133, 'ueg': 3132, 'tyrell': 3131, 'typically': 3130, 'typical': 3129, 'types': 3128, 'type': 3127, 'tx': 3126, 'two': 3125, 'twice': 3124, 'tweed': 3123, 'tuscarora': 3122, 'turned': 3121, 'turn': 3120, 'turbines': 3119, 'tune': 3118, 'tull': 3117, 'tuesday': 3116, 'tu': 3115, 'ts': 3114, 'trying': 3113, 'try': 3112, 'truly': 3111, 'true': 3110, 'truck': 3109, 'trip': 3108, 'trimble': 3107, 'trim': 3106, 'tried': 3105, 'tricoli': 3104, 'triangle': 3103, 'treschedule': 3102, 'trequest': 3101, 'treatment': 3100, 'treat': 3099, 'tre': 3098, 'tray': 3097, 'travis': 3096, 'traveling': 3095, 'transportation': 3094, 'transport': 3093, 'transfers': 3092, 'transferred': 3091, 'transfer': 3090, 'transaction': 3089, 'training': 3088, 'trails': 3087, 'trailblazer': 3086, 'trading': 3085, 'trades': 3084, 'traders': 3083, 'trader': 3082, 'trade': 3081, 'tracy': 3080, 'tract': 3079, 'tracked': 3078, 'track': 3077, 'tphillip': 3076, 'tpaul': 3075, 'tpallen': 3074, 'townsend': 3073, 'townhomes': 3072, 'town': 3071, 'towards': 3070, 'tow': 3069, 'tour': 3068, 'touch': 3067, 'total': 3066, 'tossed': 3065, 'tosco': 3064, 'torrey': 3063, 'tori': 3062, 'topic': 3061, 'top': 3060, 'took': 3059, 'too': 3058, 'tonai': 3057, 'tomorrow': 3056, 'tom': 3055, 'tolling': 3054, 'told': 3053, 'together': 3052, 'todd': 3051, 'today': 3050, 'to': 3049, 'tle': 3048, 'tjoe': 3047, 'title': 3046, 'tinvitation': 3045, 'tina': 3044, 'timothy': 3043, 'timesheets': 3042, 'times': 3041, 'timely': 3040, 'timed': 3039, 'time': 3038, 'tim': 3037, 'tijerina': 3036, 'tight': 3035, 'tied': 3034, 'tickets': 3033, 'ticket': 3032, 'ticker': 3031, 'tian': 3030, 'thus': 3029, 'thursday': 3028, 'tht': 3027, 'throughput': 3026, 'throughout': 3025, 'through': 3024, 'thresa': 3023, 'three': 3022, 'thoughts': 3021, 'thought': 3020, 'though': 3019, 'those': 3018, 'thoroughly': 3017, 'thompson': 3016, 'thomas': 3015, 'tholt': 3014, 'this': 3013, 'third': 3012, 'think': 3011, 'things': 3010, 'thing': 3009, 'thin': 3008, 'they': 3007, 'these': 3006, 'theresa': 3005, 'therein': 3004, 'therefore': 3003, 'there': 3002, 'then': 3001, 'themselves': 3000, 'them': 2999, 'theizen': 2998, 'their': 2997, 'the': 2996, 'that': 2995, 'thanxs': 2994, 'thanx': 2993, 'thanks': 2992, 'thank': 2991, 'than': 2990, 'th': 2989, 'tfrom': 2988, 'texas': 2987, 'tests': 2986, 'testing': 2985, 'test': 2984, 'terry': 2983, 'terrellyn': 2982, 'terms': 2981, 'term': 2980, 'teresa': 2979, 'tentative': 2978, 'tenron': 2977, 'tennant': 2976, 'tenants': 2975, 'tenant': 2974, 'tempted': 2973, 'temporary': 2972, 'templates': 2971, 'template': 2970, 'tell': 2969, 'telerate': 2968, 'ted': 2967, 'technical': 2966, 'teams': 2965, 'team': 2964, 'tds': 2963, 'tconfirmation': 2962, 'tbd': 2961, 'taylor': 2960, 'tax': 2959, 'tate': 2958, 'tasks': 2957, 'task': 2956, 'targets': 2955, 'target': 2954, 'tara': 2953, 'tammy': 2952, 'tammie': 2951, 'tamara': 2950, 'talked': 2949, 'talk': 2948, 'talie': 2947, 'talan': 2946, 'taking': 2945, 'takes': 2944, 'taken': 2943, 'take': 2942, 'taffy': 2941, 'table': 2940, 'tab': 2939, 'systems': 2938, 'systematically': 2937, 'systematic': 2936, 'system': 2935, 'synergi': 2934, 'sylvia': 2933, 'swg': 2932, 'swerzbin': 2931, 'sweitzer': 2930, 'swaps': 2929, 'sw': 2928, 'suzanne': 2927, 'suz': 2926, 'sutton': 2925, 'suspect': 2924, 'susan': 2923, 'surveys': 2922, 'survey': 2921, 'surrounding': 2920, 'surprised': 2919, 'surprise': 2918, 'sure': 2917, 'supposed': 2916, 'support': 2915, 'supply': 2914, 'superty': 2913, 'sunone': 2912, 'sumner': 2911, 'summer': 2910, 'summary': 2909, 'sumas': 2908, 'sullivan': 2907, 'sukaly': 2906, 'suggestion': 2905, 'suggested': 2904, 'suggest': 2903, 'suffield': 2902, 'suffice': 2901, 'such': 2900, 'successful': 2899, 'success': 2898, 'subtract': 2897, 'subtle': 2896, 'substitute': 2895, 'substantially': 2894, 'subs': 2893, 'submitted': 2892, 'subject': 2891, 'subdivided': 2890, 'subcontractors': 2889, 'subcontractor': 2888, 'sub': 2887, 'su': 2886, 'styles': 2885, 'sturm': 2884, 'stupid': 2883, 'stumbled': 2882, 'studio': 2881, 'studies': 2880, 'student': 2879, 'stuart': 2878, 'strutt': 2877, 'structuring': 2876, 'structure': 2875, 'strongly': 2874, 'strong': 2873, 'stromquist': 2872, 'strike': 2871, 'street': 2870, 'strategy': 2869, 'strategies': 2868, 'strange': 2867, 'straight': 2866, 'stove': 2865, 'story': 2864, 'storm': 2863, 'stores': 2862, 'store': 2861, 'storage': 2860, 'stop': 2859, 'stone': 2858, 'stock': 2857, 'stinson': 2856, 'stimulate': 2855, 'still': 2854, 'stickers': 2853, 'steven': 2852, 'steve': 2851, 'steps': 2850, 'stephanie': 2849, 'stella': 2848, 'steelman': 2847, 'stdolelink': 2846, 'staying': 2845, 'stayed': 2844, 'status': 2843, 'station': 2842, 'stating': 2841, 'static': 2840, 'statements': 2839, 'statement': 2838, 'state': 2837, 'starting': 2836, 'start': 2835, 'star': 2834, 'stanley': 2833, 'stanfield': 2832, 'stands': 2831, 'standpoint': 2830, 'standard': 2829, 'stand': 2828, 'staley': 2827, 'stage': 2826, 'staffing': 2825, 'staffers': 2824, 'staff': 2823, 'stabler': 2822, 'st': 2821, 'srrs': 2820, 'square': 2819, 'sq': 2818, 'spreadsheets': 2817, 'spreadsheet': 2816, 'spreads': 2815, 'spreading': 2814, 'spread': 2813, 'spoken': 2812, 'spoke': 2811, 'split': 2810, 'spirit': 2809, 'spine': 2808, 'spent': 2807, 'spell': 2806, 'speed': 2805, 'speculative': 2804, 'specified': 2803, 'specific': 2802, 'spec': 2801, 'speaks': 2800, 'speaking': 2799, 'speaker': 2798, 'speak': 2797, 'sparse': 2796, 'sp': 2795, 'southern': 2794, 'south': 2793, 'sources': 2792, 'sounds': 2791, 'sound': 2790, 'souad': 2789, 'sort': 2788, 'sorry': 2787, 'soon': 2786, 'sonja': 2785, 'son': 2784, 'somewhere': 2783, 'sometimes': 2782, 'sometime': 2781, 'something': 2780, 'someone': 2779, 'some': 2778, 'solve': 2777, 'solution': 2776, 'sold': 2775, 'soils': 2774, 'software': 2773, 'soccer': 2772, 'socal': 2771, 'so': 2770, 'snow': 2769, 'smud': 2768, 'smoke': 2767, 'smith': 2766, 'smiling': 2765, 'smart': 2764, 'smaller': 2763, 'small': 2762, 'sm': 2761, 'slot': 2760, 'slb': 2759, 'sladana': 2758, 'sky': 2757, 'skippingstone': 2756, 'skipping': 2755, 'skinner': 2754, 'skills': 2753, 'ski': 2752, 'skew': 2751, 'size': 2750, 'situation': 2749, 'site': 2748, 'sitara': 2747, 'single': 2746, 'singla': 2745, 'sincerely': 2744, 'since': 2743, 'simply': 2742, 'simmons': 2741, 'similiar': 2740, 'similar': 2739, 'significantly': 2738, 'significant': 2737, 'signed': 2736, 'signature': 2735, 'sign': 2734, 'siginificant': 2733, 'siding': 2732, 'side': 2731, 'sid': 2730, 'shut': 2729, 'shulklapper': 2728, 'shows': 2727, 'shown': 2726, 'showing': 2725, 'show': 2724, 'should': 2723, 'shorts': 2722, 'shortages': 2721, 'short': 2720, 'shopped': 2719, 'shoot': 2718, 'shockwave': 2717, 'shockmachine': 2716, 'shk': 2715, 'shively': 2714, 'shirley': 2713, 'shine': 2712, 'shim': 2711, 'shift': 2710, 'sherri': 2709, 'shekar': 2708, 'sheila': 2707, 'sheet': 2706, 'shedd': 2705, 'she': 2704, 'sharp': 2703, 'sharing': 2702, 'shares': 2701, 'shareholder': 2700, 'shared': 2699, 'share': 2698, 'shapiro': 2697, 'shape': 2696, 'shanna': 2695, 'shankman': 2694, 'shanbhogue': 2693, 'shame': 2692, 'sf': 2691, 'severude': 2690, 'severson': 2689, 'severe': 2688, 'several': 2687, 'settled': 2686, 'setting': 2685, 'set': 2684, 'session': 2683, 'services': 2682, 'service': 2681, 'serious': 2680, 'september': 2679, 'sept': 2678, 'separate': 2677, 'sent': 2676, 'sensitive': 2675, 'sense': 2674, 'sending': 2673, 'send': 2672, 'sempra': 2671, 'sells': 2670, 'selling': 2669, 'seller': 2668, 'sell': 2667, 'self': 2666, 'selection': 2665, 'selecting': 2664, 'selected': 2663, 'seguin': 2662, 'seen': 2661, 'seems': 2660, 'seem': 2659, 'seeing': 2658, 'see': 2657, 'security': 2656, 'secure': 2655, 'second': 2654, 'seasonal': 2653, 'se': 2652, 'sdli': 2651, 'scrubbing': 2650, 'scroll': 2649, 'screening': 2648, 'screen': 2647, 'scratch': 2646, 'scrap': 2645, 'scott': 2644, 'scope': 2643, 'schwieger': 2642, 'schultea': 2641, 'schuler': 2640, 'schroeder': 2639, 'schrab': 2638, 'school': 2637, 'schnieders': 2636, 'schneider': 2635, 'schiller': 2634, 'scheduling': 2633, 'schedules': 2632, 'scheduled': 2631, 'schedule': 2630, 'sc': 2629, 'says': 2628, 'saying': 2627, 'say': 2626, 'saved': 2625, 'save': 2624, 'saturdays': 2623, 'saturday': 2622, 'sarr': 2621, 'santuc': 2620, 'sandy': 2619, 'sandra': 2618, 'sanchez': 2617, 'san': 2616, 'same': 2615, 'sally': 2614, 'sales': 2613, 'sale': 2612, 'salary': 2611, 'saji': 2610, 'said': 2609, 'sagewood': 2608, 'safe': 2607, 'ryder': 2606, 'ryan': 2605, 'rvr': 2604, 'rvey': 2603, 'ruth': 2602, 'russell': 2601, 'russ': 2600, 'running': 2599, 'run': 2598, 'rules': 2597, 'rp': 2596, 'royed': 2595, 'rows': 2594, 'route': 2593, 'rourke': 2592, 'round': 2591, 'roughly': 2590, 'rooms': 2589, 'room': 2588, 'roofing': 2587, 'roof': 2586, 'ronald': 2585, 'ron': 2584, 'romero': 2583, 'rome': 2582, 'rolled': 2581, 'roll': 2580, 'rodney': 2579, 'rode': 2578, 'rockies': 2577, 'roberts': 2576, 'robert': 2575, 'rober': 2574, 'rob': 2573, 'road': 2572, 'rkymtn': 2571, 'river': 2570, 'rita': 2569, 'risk': 2568, 'rising': 2567, 'rika': 2566, 'rights': 2565, 'right': 2564, 'riding': 2563, 'ride': 2562, 'rick': 2561, 'richardson': 2560, 'richards': 2559, 'richard': 2558, 'rhonna': 2557, 'reward': 2556, 'revised': 2555, 'reviews': 2554, 'reviewing': 2553, 'reviewed': 2552, 'review': 2551, 'reveal': 2550, 'revalue': 2549, 'reuters': 2548, 'returned': 2547, 'return': 2546, 'retention': 2545, 'retain': 2544, 'retail': 2543, 'resumes': 2542, 'results': 2541, 'resulting': 2540, 'rest': 2539, 'responsible': 2538, 'responsibilities': 2537, 'response': 2536, 'respond': 2535, 'resources': 2534, 'resource': 2533, 'resolved': 2532, 'resolve': 2531, 'resolution': 2530, 'residential': 2529, 'reserves': 2528, 'research': 2527, 'rescheduled': 2526, 'reschedule': 2525, 'requirements': 2524, 'requirement': 2523, 'required': 2522, 'require': 2521, 'requests': 2520, 'requester': 2519, 'requested': 2518, 'request': 2517, 'represents': 2516, 'representative': 2515, 'represent': 2514, 'reports': 2513, 'reporting': 2512, 'report': 2511, 'reply': 2510, 'replaces': 2509, 'repeats': 2508, 'repayment': 2507, 'reopen': 2506, 'rents': 2505, 'rentrolls': 2504, 'rentroll': 2503, 'rented': 2502, 'rental': 2501, 'rent': 2500, 'renovation': 2499, 'remote': 2498, 'reminders': 2497, 'reminder': 2496, 'remembering': 2495, 'remember': 2494, 'remains': 2493, 'remaining': 2492, 'reliable': 2491, 'reliability': 2490, 'releases': 2489, 'released': 2488, 'release': 2487, 'relay': 2486, 'relative': 2485, 'relationships': 2484, 'relationship': 2483, 'related': 2482, 'relate': 2481, 'rejected': 2480, 'reitmeyer': 2479, 'reitm': 2478, 'reiterate': 2477, 'reimbursement': 2476, 'regulatory': 2475, 'regret': 2474, 'region': 2473, 'regards': 2472, 'regarding': 2471, 'regard': 2470, 'regan': 2469, 'reflects': 2468, 'reflected': 2467, 'referring': 2466, 'referred': 2465, 'referenced': 2464, 'reference': 2463, 'refax': 2462, 'reed': 2461, 'reduction': 2460, 'reducing': 2459, 'reduced': 2458, 'reduce': 2457, 'redmond': 2456, 'redick': 2455, 'recourse': 2454, 'records': 2453, 'recordkeeping': 2452, 'recordable': 2451, 'record': 2450, 'reck': 2449, 'recieve': 2448, 'receiving': 2447, 'received': 2446, 'receive': 2445, 'receipts': 2444, 'receipt': 2443, 'recall': 2442, 'recalc': 2441, 'rec': 2440, 'rebecca': 2439, 'reasons': 2438, 'reasonable': 2437, 'reason': 2436, 'really': 2435, 'reallocate': 2434, 'realize': 2433, 'real': 2432, 'reagan': 2431, 'ready': 2430, 'read': 2429, 'reach': 2428, 're': 2427, 'rd': 2426, 'rc': 2425, 'raymond': 2424, 'ray': 2423, 'raw': 2422, 'rau': 2421, 'rather': 2420, 'rates': 2419, 'raters': 2418, 'rate': 2417, 'rapport': 2416, 'rapid': 2415, 'rangel': 2414, 'range': 2413, 'randy': 2412, 'randall': 2411, 'randal': 2410, 'ranabir': 2409, 'ran': 2408, 'ramon': 2407, 'ralph': 2406, 'rajesh': 2405, 'raj': 2404, 'raised': 2403, 'rain': 2402, 'rabon': 2401, 'quite': 2400, 'quiet': 2399, 'questions': 2398, 'question': 2397, 'questar': 2396, 'ques': 2395, 'quantities': 2394, 'quality': 2393, 'pw': 2392, 'put': 2391, 'pursuing': 2390, 'pursue': 2389, 'pursifull': 2388, 'purposes': 2387, 'purchasing': 2386, 'purchased': 2385, 'purchase': 2384, 'pulls': 2383, 'pulling': 2382, 'pull': 2381, 'pud': 2380, 'publication': 2379, 'public': 2378, 'pst': 2377, 'psf': 2376, 'ps': 2375, 'pruett': 2374, 'prudency': 2373, 'proxy': 2372, 'provider': 2371, 'provided': 2370, 'provide': 2369, 'protect': 2368, 'proposing': 2367, 'propose': 2366, 'proposals': 2365, 'proposal': 2364, 'property': 2363, 'properties': 2362, 'properly': 2361, 'prompted': 2360, 'prompt': 2359, 'promote': 2358, 'prolonging': 2357, 'projects': 2356, 'project': 2355, 'progress': 2354, 'programs': 2353, 'program': 2352, 'proforma': 2351, 'profits': 2350, 'profit': 2349, 'profiles': 2348, 'profile': 2347, 'professionals': 2346, 'professional': 2345, 'products': 2344, 'productive': 2343, 'production': 2342, 'product': 2341, 'produce': 2340, 'produc': 2339, 'procurement': 2338, 'process': 2337, 'proceedures': 2336, 'proceeds': 2335, 'proceedings': 2334, 'proceed': 2333, 'procedures': 2332, 'problems': 2331, 'problem': 2330, 'probably': 2329, 'privileged': 2328, 'private': 2327, 'priority': 2326, 'prioritised': 2325, 'prior': 2324, 'prints': 2323, 'printing': 2322, 'print': 2321, 'principals': 2320, 'principal': 2319, 'prince': 2318, 'prime': 2317, 'pricing': 2316, 'prices': 2315, 'price': 2314, 'previous': 2313, 'pretty': 2312, 'presume': 2311, 'presto': 2310, 'presidents': 2309, 'president': 2308, 'presenter': 2307, 'presented': 2306, 'presentation': 2305, 'present': 2304, 'presence': 2303, 'prepayments': 2302, 'preparing': 2301, 'prepared': 2300, 'prepare': 2299, 'preparation': 2298, 'premium': 2297, 'premier': 2296, 'preliminary': 2295, 'preferred': 2294, 'preferences': 2293, 'preference': 2292, 'prebon': 2291, 'pre': 2290, 'prc': 2289, 'practices': 2288, 'practice': 2287, 'power': 2286, 'potter': 2285, 'potentially': 2284, 'potential': 2283, 'postings': 2282, 'posted': 2281, 'post': 2280, 'possible': 2279, 'positions': 2278, 'position': 2277, 'portion': 2276, 'portfolio': 2275, 'porch': 2274, 'pond': 2273, 'ponce': 2272, 'polite': 2271, 'points': 2270, 'point': 2269, 'pocket': 2268, 'pm': 2267, 'plus': 2266, 'please': 2265, 'play': 2264, 'plans': 2263, 'planning': 2262, 'plan': 2261, 'plain': 2260, 'place': 2259, 'pizarro': 2258, 'pitch': 2257, 'pipelines': 2256, 'pipeline': 2255, 'pilot': 2254, 'pilo': 2253, 'pilar': 2252, 'pikofsky': 2251, 'pictures': 2250, 'pick': 2249, 'physical': 2248, 'phyllis': 2247, 'phy': 2246, 'photograph': 2245, 'phone': 2244, 'philpott': 2243, 'philllip': 2242, 'phillip': 2241, 'phil': 2240, 'phasing': 2239, 'phases': 2238, 'phase': 2237, 'pham': 2236, 'pgt': 2235, 'pgen': 2234, 'pga': 2233, 'pg': 2232, 'perubhatla': 2231, 'personally': 2230, 'personal': 2229, 'person': 2228, 'permitting': 2227, 'permits': 2226, 'permission': 2225, 'permian': 2224, 'perlman': 2223, 'period': 2222, 'perimeter': 2221, 'performed': 2220, 'performance': 2219, 'perform': 2218, 'pereira': 2217, 'percent': 2216, 'perceived': 2215, 'perceive': 2214, 'per': 2213, 'pepl': 2212, 'people': 2211, 'pending': 2210, 'pendergrass': 2209, 'peggy': 2208, 'peers': 2207, 'peer': 2206, 'pearson': 2205, 'peak': 2204, 'pe': 2203, 'pdx': 2202, 'pdf': 2201, 'pda': 2200, 'pd': 2199, 'payout': 2198, 'payne': 2197, 'payments': 2196, 'payment': 2195, 'paying': 2194, 'paychecks': 2193, 'pay': 2192, 'paula': 2191, 'paul': 2190, 'patti': 2189, 'patrick': 2188, 'paths': 2187, 'pate': 2186, 'past': 2185, 'passwords': 2184, 'password': 2183, 'pass': 2182, 'paso': 2181, 'party': 2180, 'partnership': 2179, 'partners': 2178, 'partner': 2177, 'parties': 2176, 'particular': 2175, 'participation': 2174, 'participant': 2173, 'part': 2172, 'parquet': 2171, 'parks': 2170, 'parker': 2169, 'park': 2168, 'parents': 2167, 'parcels': 2166, 'parallon': 2165, 'papes': 2164, 'paperwork': 2163, 'paper': 2162, 'panned': 2161, 'panels': 2160, 'pan': 2159, 'palmer': 2158, 'palm': 2157, 'pallen': 2156, 'paine': 2155, 'pain': 2154, 'paid': 2153, 'page': 2152, 'pagan': 2151, 'paez': 2150, 'package': 2149, 'pace': 2148, 'ozzie': 2147, 'oxley': 2146, 'owns': 2145, 'ownership': 2144, 'owner': 2143, 'own': 2142, 'owell': 2141, 'owed': 2140, 'owa': 2139, 'ow': 2138, 'overtime': 2137, 'overlap': 2136, 'overhead': 2135, 'overdyke': 2134, 'overdue': 2133, 'overall': 2132, 'over': 2131, 'outst': 2130, 'outsourcing': 2129, 'outside': 2128, 'outlook': 2127, 'outliers': 2126, 'outflows': 2125, 'out': 2124, 'our': 2123, 'ots': 2122, 'otherwise': 2121, 'others': 2120, 'other': 2119, 'ot': 2118, 'origination': 2117, 'original': 2116, 'origin': 2115, 'organizes': 2114, 'organize': 2113, 'organization': 2112, 'ordinances': 2111, 'orders': 2110, 'order': 2109, 'or': 2108, 'options': 2107, 'optionality': 2106, 'oppose': 2105, 'opportunity': 2104, 'opportunities': 2103, 'opinions': 2102, 'opinion': 2101, 'operations': 2100, 'operational': 2099, 'operation': 2098, 'operating': 2097, 'opening': 2096, 'open': 2095, 'opal': 2094, 'onxgate': 2093, 'onsite': 2092, 'only': 2091, 'online': 2090, 'onfigured': 2089, 'one': 2088, 'ondarza': 2087, 'once': 2086, 'on': 2085, 'omber': 2084, 'olofson': 2083, 'old': 2082, 'ok': 2081, 'oil': 2080, 'often': 2079, 'offline': 2078, 'official': 2077, 'officers': 2076, 'office': 2075, 'offers': 2074, 'offering': 2073, 'offer': 2072, 'off': 2071, 'of': 2070, 'october': 2069, 'oct': 2068, 'occurs': 2067, 'occurred': 2066, 'occur': 2065, 'obviously': 2064, 'obtaining': 2063, 'obtain': 2062, 'observations': 2061, 'oblige': 2060, 'objectives': 2059, 'nymex': 2058, 'nyc': 2057, 'nxgate': 2056, 'nwpl': 2055, 'nw': 2054, 'nursing': 2053, 'numbers': 2052, 'number': 2051, 'nt': 2050, 'nsf': 2049, 'nron': 2048, 'npng': 2047, 'np': 2046, 'nowak': 2045, 'now': 2044, 'noticed': 2043, 'notice': 2042, 'nothing': 2041, 'notes': 2040, 'note': 2039, 'not': 2038, 'northwest': 2037, 'northern': 2036, 'north': 2035, 'norman': 2034, 'normal': 2033, 'nor': 2032, 'noon': 2031, 'none': 2030, 'non': 2029, 'nominal': 2028, 'no': 2027, 'nm': 2026, 'niles': 2025, 'night': 2024, 'nifer': 2023, 'nicole': 2022, 'nicki': 2021, 'nick': 2020, 'nguyen': 2019, 'ng': 2018, 'neyman': 2017, 'next': 2016, 'news': 2015, 'new': 2014, 'never': 2013, 'network': 2012, 'netscape': 2011, 'netek': 2010, 'netback': 2009, 'net': 2008, 'neighborhoods': 2007, 'negotiations': 2006, 'needs': 2005, 'needed': 2004, 'need': 2003, 'ned': 2002, 'necessary': 2001, 'near': 2000, 'neal': 1999, 'nd': 1998, 'navsetup': 1997, 'nature': 1996, 'natural': 1995, 'national': 1994, 'natgas': 1993, 'natalie': 1992, 'nat': 1991, 'narrow': 1990, 'nancy': 1989, 'names': 1988, 'name': 1987, 'nahou': 1986, 'na': 1985, 'myself': 1984, 'my': 1983, 'mw': 1982, 'muzzy': 1981, 'must': 1980, 'murray': 1979, 'murphy': 1978, 'munis': 1977, 'municipals': 1976, 'multiple': 1975, 'multifamily': 1974, 'muhl': 1973, 'much': 1972, 'mtg': 1971, 'msowa': 1970, 'msn': 1969, 'mrl': 1968, 'mrha': 1967, 'mr': 1966, 'mpg': 1965, 'moving': 1964, 'moved': 1963, 'move': 1962, 'mouse': 1961, 'mountain': 1960, 'motley': 1959, 'most': 1958, 'mortgage': 1957, 'morrison': 1956, 'morning': 1955, 'more': 1954, 'moratorium': 1953, 'moorer': 1952, 'moore': 1951, 'months': 1950, 'monthly': 1949, 'month': 1948, 'monson': 1947, 'monitoring': 1946, 'monitor': 1945, 'monique': 1944, 'monies': 1943, 'monica': 1942, 'money': 1941, 'monday': 1940, 'mollie': 1939, 'modifications': 1938, 'modification': 1937, 'model': 1936, 'mode': 1935, 'mmcf': 1934, 'mmbtu': 1933, 'mm': 1932, 'mix': 1931, 'mitchell': 1930, 'misses': 1929, 'miss': 1928, 'misplace': 1927, 'minutes': 1926, 'mintz': 1925, 'mine': 1924, 'mind': 1923, 'milton': 1922, 'milnthorp': 1921, 'mills': 1920, 'million': 1919, 'milligan': 1918, 'miller': 1917, 'millar': 1916, 'mile': 1915, 'mike': 1914, 'mik': 1913, 'migration': 1912, 'migrated': 1911, 'might': 1910, 'midmarkets': 1909, 'mid': 1908, 'microturbines': 1907, 'microturbine': 1906, 'microsoft': 1905, 'mick': 1904, 'michelle': 1903, 'michael': 1902, 'meyer': 1901, 'meter': 1900, 'met': 1899, 'messenger': 1898, 'messaging': 1897, 'message': 1896, 'merrill': 1895, 'merlin': 1894, 'meredith': 1893, 'menu': 1892, 'mentioned': 1891, 'mention': 1890, 'mendoza': 1889, 'men': 1888, 'memorial': 1887, 'memo': 1886, 'members': 1885, 'melissa': 1884, 'melendrez': 1883, 'meetings': 1882, 'meeting': 1881, 'meet': 1880, 'medium': 1879, 'measured': 1878, 'means': 1877, 'mean': 1876, 'meadow': 1875, 'me': 1874, 'md': 1873, 'mct': 1872, 'mcni': 1871, 'mcnary': 1870, 'mcf': 1869, 'mcdonald': 1868, 'mcd': 1867, 'mcculloch': 1866, 'mcclellan': 1865, 'mc': 1864, 'mba': 1863, 'mayer': 1862, 'maybe': 1861, 'may': 1860, 'maxine': 1859, 'maximum': 1858, 'max': 1857, 'matthew': 1856, 'matter': 1855, 'mattei': 1854, 'matt': 1853, 'matson': 1852, 'materials': 1851, 'material': 1850, 'masson': 1849, 'mass': 1848, 'mary': 1847, 'martin': 1846, 'martha': 1845, 'mart': 1844, 'marsha': 1843, 'markup': 1842, 'marks': 1841, 'marketplace': 1840, 'market': 1839, 'mark': 1838, 'maria': 1837, 'marginal': 1836, 'margin': 1835, 'margie': 1834, 'marcos': 1833, 'mapping': 1832, 'mapped': 1831, 'map': 1830, 'many': 1829, 'manipulate': 1828, 'mandated': 1827, 'mandate': 1826, 'managing': 1825, 'managers': 1824, 'manager': 1823, 'management': 1822, 'managed': 1821, 'manage': 1820, 'malin': 1819, 'malcolm': 1818, 'make': 1817, 'major': 1816, 'maintenance': 1815, 'maintains': 1814, 'maintain': 1813, 'main': 1812, 'mailto': 1811, 'mailings': 1810, 'mailing': 1809, 'mailed': 1808, 'mailbox': 1807, 'mail': 1806, 'mahmassani': 1805, 'maggie': 1804, 'maggi': 1803, 'maffett': 1802, 'made': 1801, 'machine': 1800, 'mac': 1799, 'ma': 1798, 'lynn': 1797, 'lyndel': 1796, 'lynch': 1795, 'lydecker': 1794, 'lutz': 1793, 'luncheon': 1792, 'lunch': 1791, 'lukert': 1790, 'lucy': 1789, 'luck': 1788, 'luchas': 1787, 'luce': 1786, 'lucci': 1785, 'luann': 1784, 'lu': 1783, 'lp': 1782, 'lowered': 1781, 'lower': 1780, 'low': 1779, 'loving': 1778, 'love': 1777, 'lotus': 1776, 'lots': 1775, 'lot': 1774, 'losses': 1773, 'loss': 1772, 'lorie': 1771, 'loop': 1770, 'looks': 1769, 'looking': 1768, 'looked': 1767, 'look': 1766, 'loocke': 1765, 'longs': 1764, 'long': 1763, 'lone': 1762, 'lon': 1761, 'logon': 1760, 'login': 1759, 'logging': 1758, 'log': 1757, 'lock': 1756, 'locations': 1755, 'location': 1754, 'local': 1753, 'loans': 1752, 'loan': 1751, 'loading': 1750, 'load': 1749, 'llc': 1748, 'll': 1747, 'living': 1746, 'live': 1745, 'little': 1744, 'lit': 1743, 'lists': 1742, 'listen': 1741, 'listed': 1740, 'list': 1739, 'lisa': 1738, 'lira': 1737, 'link': 1736, 'lines': 1735, 'line': 1734, 'lin': 1733, 'limited': 1732, 'lilly': 1731, 'lillian': 1730, 'liking': 1729, 'likely': 1728, 'like': 1727, 'lighthill': 1726, 'life': 1725, 'lieu': 1724, 'lient': 1723, 'liane': 1722, 'liability': 1721, 'liabilities': 1720, 'lia': 1719, 'lewter': 1718, 'lewis': 1717, 'levingston': 1716, 'level': 1715, 'letter': 1714, 'lets': 1713, 'leticia': 1712, 'let': 1711, 'less': 1710, 'leon': 1709, 'lenhart': 1708, 'lender': 1707, 'lenart': 1706, 'lemmons': 1705, 'leigh': 1704, 'lehr': 1703, 'lehmann': 1702, 'lehman': 1701, 'legislative': 1700, 'legal': 1699, 'left': 1698, 'leaving': 1697, 'leave': 1696, 'least': 1695, 'leasing': 1694, 'leased': 1693, 'lease': 1692, 'learn': 1691, 'leal': 1690, 'le': 1689, 'ldc': 1688, 'layout': 1687, 'lay': 1686, 'lavorato': 1685, 'laura': 1684, 'launch': 1683, 'latest': 1682, 'later': 1681, 'lately': 1680, 'late': 1679, 'last': 1678, 'larry': 1677, 'largest': 1676, 'larger': 1675, 'large': 1674, 'laquitta': 1673, 'laptop': 1672, 'language': 1671, 'landscaping': 1670, 'landscape': 1669, 'land': 1668, 'lance': 1667, 'lan': 1666, 'lamadrid': 1665, 'lam': 1664, 'lake': 1663, 'laird': 1662, 'lagrasta': 1661, 'labor': 1660, 'kyle': 1659, 'kwh': 1658, 'kuykendall': 1657, 'kuykendahl': 1656, 'kuy': 1655, 'kulvinder': 1654, 'kulic': 1653, 'ku': 1652, 'kristin': 1651, 'kristi': 1650, 'kristen': 1649, 'krishnaswamy': 1648, 'komatireddy': 1647, 'knudsen': 1646, 'knows': 1645, 'known': 1644, 'know': 1643, 'knock': 1642, 'kitagawa': 1641, 'kirk': 1640, 'kipp': 1639, 'kinsey': 1638, 'kinneman': 1637, 'kingsgate': 1636, 'kind': 1635, 'kimberly': 1634, 'kimat': 1633, 'kim': 1632, 'kids': 1631, 'keynote': 1630, 'key': 1629, 'kevin': 1628, 'kept': 1627, 'kent': 1626, 'kenny': 1625, 'kenney': 1624, 'kenneth': 1623, 'kendall': 1622, 'ken': 1621, 'kelly': 1620, 'kelemen': 1619, 'keith': 1618, 'keiser': 1617, 'keilty': 1616, 'keeps': 1615, 'keep': 1614, 'kean': 1613, 'ke': 1612, 'kay': 1611, 'kaufman': 1610, 'katy': 1609, 'kathy': 1608, 'kathryn': 1607, 'katherine': 1606, 'kate': 1605, 'karen': 1604, 'kaniss': 1603, 'kaminski': 1602, 'kam': 1601, 'jy': 1600, 'justifying': 1599, 'just': 1598, 'june': 1597, 'july': 1596, 'julie': 1595, 'julia': 1594, 'judy': 1593, 'judging': 1592, 'juan': 1591, 'joya': 1590, 'journals': 1589, 'journal': 1588, 'josey': 1587, 'joseph': 1586, 'jornada': 1585, 'jordan': 1584, 'jones': 1583, 'johnson': 1582, 'johnnie': 1581, 'johnna': 1580, 'john': 1579, 'joel': 1578, 'joe': 1577, 'jobs': 1576, 'job': 1575, 'joan': 1574, 'jo': 1573, 'jim': 1572, 'jet': 1571, 'jesus': 1570, 'jessica': 1569, 'jesse': 1568, 'jere': 1567, 'jensen': 1566, 'jenny': 1565, 'jen': 1564, 'jeffrey': 1563, 'jeffery': 1562, 'jeff': 1561, 'jeanne': 1560, 'jean': 1559, 'jdsu': 1558, 'jayant': 1557, 'jay': 1556, 'jason': 1555, 'january': 1554, 'janie': 1553, 'janette': 1552, 'janet': 1551, 'janel': 1550, 'jane': 1549, 'jana': 1548, 'jan': 1547, 'james': 1546, 'jakubik': 1545, 'jake': 1544, 'jaime': 1543, 'jae': 1542, 'jad': 1541, 'jackson': 1540, 'jackie': 1539, 'jack': 1538, 'iwill': 1537, 'ivoice': 1536, 'its': 1535, 'ith': 1534, 'items': 1533, 'item': 1532, 'itcapps': 1531, 'it': 1530, 'issues': 1529, 'issued': 1528, 'issue': 1527, 'isp': 1526, 'isolate': 1525, 'isn': 1524, 'is': 1523, 'irrevocable': 1522, 'irm': 1521, 'iris': 1520, 'irena': 1519, 'ipaq': 1518, 'ip': 1517, 'involving': 1516, 'involvement': 1515, 'involved': 1514, 'invited': 1513, 'investors': 1512, 'investor': 1511, 'investments': 1510, 'investment': 1509, 'investigation': 1508, 'investigated': 1507, 'investigate': 1506, 'invest': 1505, 'invading': 1504, 'introducing': 1503, 'intranet': 1502, 'intra': 1501, 'into': 1500, 'interview': 1499, 'interventions': 1498, 'interruptible': 1497, 'internet': 1496, 'internal': 1495, 'interested': 1494, 'interest': 1493, 'interactive': 1492, 'intent': 1491, 'intense': 1490, 'intended': 1489, 'intend': 1488, 'intelligence': 1487, 'insult': 1486, 'instructions': 1485, 'instructed': 1484, 'instead': 1483, 'instantaneous': 1482, 'installing': 1481, 'installer': 1480, 'installation': 1479, 'install': 1478, 'inspect': 1477, 'insight': 1476, 'inside': 1475, 'inserting': 1474, 'input': 1473, 'injuries': 1472, 'injections': 1471, 'injection': 1470, 'injecting': 1469, 'initial': 1468, 'ing': 1467, 'informative': 1466, 'information': 1465, 'info': 1464, 'influence': 1463, 'infinitely': 1462, 'infill': 1461, 'industry': 1460, 'individuals': 1459, 'individual': 1458, 'indices': 1457, 'indicates': 1456, 'indicated': 1455, 'indexed': 1454, 'index': 1453, 'indeces': 1452, 'incurred': 1451, 'incrementally': 1450, 'increase': 1449, 'income': 1448, 'inclusion': 1447, 'included': 1446, 'include': 1445, 'incapacitated': 1444, 'inc': 1443, 'inability': 1442, 'ina': 1441, 'in': 1440, 'improves': 1439, 'improvements': 1438, 'improvement': 1437, 'improved': 1436, 'improve': 1435, 'imports': 1434, 'imported': 1433, 'important': 1432, 'importance': 1431, 'implicit': 1430, 'implementation': 1429, 'implement': 1428, 'imperative': 1427, 'impacts': 1426, 'impact': 1425, 'immediate': 1424, 'imam': 1423, 'imai': 1422, 'imagination': 1421, 'im': 1420, 'illustrates': 1419, 'illustrate': 1418, 'il': 1417, 'igrated': 1416, 'ignore': 1415, 'if': 1414, 'ient': 1413, 'identify': 1412, 'identified': 1411, 'identical': 1410, 'ideas': 1409, 'ideally': 1408, 'ideal': 1407, 'idea': 1406, 'id': 1405, 'ications': 1404, 'huynh': 1403, 'hurdles': 1402, 'hunter': 1401, 'hubert': 1400, 'http': 1399, 'htm': 1398, 'hsc': 1397, 'hrweb': 1396, 'hrs': 1395, 'hrgis': 1394, 'hr': 1393, 'however': 1392, 'howe': 1391, 'how': 1390, 'houston': 1389, 'housing': 1388, 'house': 1387, 'hours': 1386, 'hourly': 1385, 'hour': 1384, 'hou': 1383, 'hotmail': 1382, 'hoskins': 1381, 'horton': 1380, 'horn': 1379, 'hops': 1378, 'hopefully': 1377, 'hope': 1376, 'honeywell': 1375, 'honest': 1374, 'homes': 1373, 'home': 1372, 'homco': 1371, 'holtz': 1370, 'holst': 1369, 'holiday': 1368, 'holds': 1367, 'holding': 1366, 'hold': 1365, 'hogan': 1364, 'hodge': 1363, 'hoc': 1362, 'ho': 1361, 'hitting': 1360, 'hit': 1359, 'history': 1358, 'historical': 1357, 'his': 1356, 'him': 1355, 'hillis': 1354, 'hill': 1353, 'highly': 1352, 'highlighted': 1351, 'higher': 1350, 'high': 1349, 'hicks': 1348, 'hickerson': 1347, 'hi': 1346, 'hey': 1345, 'hernandez': 1344, 'hermans': 1343, 'here': 1342, 'her': 1341, 'hennessy': 1340, 'henenberg': 1339, 'helton': 1338, 'helps': 1337, 'helpdesk': 1336, 'help': 1335, 'hello': 1334, 'held': 1333, 'heizenrader': 1332, 'hehub': 1331, 'hedstrom': 1330, 'hedges': 1329, 'hedge': 1328, 'hebert': 1327, 'heat': 1326, 'hearme': 1325, 'hearing': 1324, 'heard': 1323, 'hear': 1322, 'healed': 1321, 'headcount': 1320, 'he': 1319, 'hayden': 1318, 'having': 1317, 'haven': 1316, 'have': 1315, 'has': 1314, 'harvey': 1313, 'hartsoe': 1312, 'harrison': 1311, 'harris': 1310, 'harrill': 1309, 'harder': 1308, 'hard': 1307, 'happy': 1306, 'happens': 1305, 'happened': 1304, 'happen': 1303, 'hangach': 1302, 'hands': 1301, 'handling': 1300, 'handled': 1299, 'handle': 1298, 'hamman': 1297, 'ham': 1296, 'halstead': 1295, 'hall': 1294, 'half': 1293, 'haedicke': 1292, 'had': 1291, 'ha': 1290, 'gwynn': 1289, 'gw': 1288, 'gutierrez': 1287, 'gustafson': 1286, 'gusa': 1285, 'guggenheim': 1284, 'guest': 1283, 'guess': 1282, 'guerra': 1281, 'guaranteed': 1280, 'guarantee': 1279, 'gs': 1278, 'growth': 1277, 'groups': 1276, 'grouped': 1275, 'group': 1274, 'gross': 1273, 'grigsby': 1272, 'griffith': 1271, 'grid': 1270, 'gregory': 1269, 'greg': 1268, 'greer': 1267, 'green': 1266, 'greatly': 1265, 'greater': 1264, 'great': 1263, 'gray': 1262, 'granted': 1261, 'grant': 1260, 'gramke': 1259, 'grace': 1258, 'grab': 1257, 'gr': 1256, 'governors': 1255, 'goulart': 1254, 'got': 1253, 'gossett': 1252, 'gosnell': 1251, 'gorsuch': 1250, 'gorny': 1249, 'good': 1248, 'gonzalez': 1247, 'gomez': 1246, 'golf': 1245, 'goldsmith': 1244, 'going': 1243, 'goes': 1242, 'goals': 1241, 'goal': 1240, 'go': 1239, 'gna': 1238, 'global': 1237, 'glad': 1236, 'given': 1235, 'give': 1234, 'gis': 1233, 'giron': 1232, 'girl': 1231, 'giovannini': 1230, 'gilmore': 1229, 'gillespie': 1228, 'gil': 1227, 'gibner': 1226, 'getting': 1225, 'get': 1224, 'gerry': 1223, 'gerard': 1222, 'george': 1221, 'generation': 1220, 'generates': 1219, 'generated': 1218, 'generate': 1217, 'generally': 1216, 'general': 1215, 'gen': 1214, 'gel': 1213, 'gdp': 1212, 'gden': 1211, 'gd': 1210, 'gco': 1209, 'gay': 1208, 'gawain': 1207, 'gave': 1206, 'gather': 1205, 'gated': 1204, 'gate': 1203, 'gasper': 1202, 'gas': 1201, 'garza': 1200, 'gary': 1199, 'gamma': 1198, 'games': 1197, 'game': 1196, 'galloway': 1195, 'gains': 1194, 'gain': 1193, 'gagel': 1192, 'gabriel': 1191, 'gable': 1190, 'fyi': 1189, 'fx': 1188, 'fwd': 1187, 'fw': 1186, 'fuzat': 1185, 'future': 1184, 'further': 1183, 'funds': 1182, 'functions': 1181, 'functionality': 1180, 'function': 1179, 'fun': 1178, 'full': 1177, 'fuel': 1176, 'ft': 1175, 'fsddatasvc': 1174, 'fsd': 1173, 'frwy': 1172, 'front': 1171, 'fromjune': 1170, 'from': 1169, 'frogger': 1168, 'frog': 1167, 'frig': 1166, 'friend': 1165, 'fridays': 1164, 'friday': 1163, 'frevert': 1162, 'free': 1161, 'fred': 1160, 'freakish': 1159, 'fraser': 1158, 'franklin': 1157, 'frank': 1156, 'franco': 1155, 'framing': 1154, 'frame': 1153, 'fox': 1152, 'fowler': 1151, 'fowl': 1150, 'four': 1149, 'foundation': 1148, 'found': 1147, 'forwarded': 1146, 'forward': 1145, 'fortunately': 1144, 'fortine': 1143, 'forsyth': 1142, 'formulate': 1141, 'formula': 1140, 'formation': 1139, 'format': 1138, 'formal': 1137, 'form': 1136, 'forever': 1135, 'forecast': 1134, 'ford': 1133, 'for': 1132, 'footage': 1131, 'foot': 1130, 'follows': 1129, 'following': 1128, 'followin': 1127, 'follow': 1126, 'folks': 1125, 'folder': 1124, 'focus': 1123, 'flying': 1122, 'flush': 1121, 'flows': 1120, 'flow': 1119, 'flores': 1118, 'floor': 1117, 'float': 1116, 'flexible': 1115, 'fletcher': 1114, 'fletch': 1113, 'flags': 1112, 'flag': 1111, 'fixed': 1110, 'fix': 1109, 'five': 1108, 'fitness': 1107, 'fitch': 1106, 'fiscals': 1105, 'fiscal': 1104, 'first': 1103, 'firms': 1102, 'firm': 1101, 'finished': 1100, 'finish': 1099, 'finis': 1098, 'fine': 1097, 'find': 1096, 'financing': 1095, 'financial': 1094, 'financail': 1093, 'finally': 1092, 'final': 1091, 'filtration': 1090, 'filter': 1089, 'filled': 1088, 'fill': 1087, 'filings': 1086, 'filing': 1085, 'files': 1084, 'filename': 1083, 'filed': 1082, 'file': 1081, 'field': 1080, 'fha': 1079, 'fgt': 1078, 'ffice': 1077, 'fewer': 1076, 'few': 1075, 'ferc': 1074, 'fencing': 1073, 'fence': 1072, 'felix': 1071, 'felicia': 1070, 'feldman': 1069, 'fees': 1068, 'feel': 1067, 'feedback': 1066, 'fee': 1065, 'features': 1064, 'feasible': 1063, 'faxed': 1062, 'fax': 1061, 'favorites': 1060, 'favorably': 1059, 'fast': 1058, 'far': 1057, 'fanatical': 1056, 'family': 1055, 'fallon': 1054, 'fall': 1053, 'fair': 1052, 'fain': 1051, 'factory': 1050, 'fact': 1049, 'facing': 1048, 'facilitate': 1047, 'face': 1046, 'eyer': 1045, 'extremely': 1044, 'extreme': 1043, 'extensions': 1042, 'extension': 1041, 'extended': 1040, 'extend': 1039, 'expressly': 1038, 'expressed': 1037, 'express': 1036, 'expost': 1035, 'export': 1034, 'explorer': 1033, 'explicit': 1032, 'expiration': 1031, 'experts': 1030, 'expert': 1029, 'experienced': 1028, 'experience': 1027, 'expenses': 1026, 'expenditures': 1025, 'expecting': 1024, 'expected': 1023, 'expect': 1022, 'expansion': 1021, 'expand': 1020, 'exotic': 1019, 'existing': 1018, 'existed': 1017, 'exhibit': 1016, 'exercising': 1015, 'exercise': 1014, 'executive': 1013, 'executing': 1012, 'executed': 1011, 'exclusive': 1010, 'excluding': 1009, 'excluded': 1008, 'exclude': 1007, 'excited': 1006, 'exchange': 1005, 'exceptional': 1004, 'except': 1003, 'excel': 1002, 'example': 1001, 'exactly': 1000, 'exact': 999, 'evh': 998, 'everything': 997, 'everyone': 996, 'everyday': 995, 'every': 994, 'ever': 993, 'events': 992, 'event': 991, 'evening': 990, 'even': 989, 'evelyn': 988, 'evans': 987, 'evaluation': 986, 'eva': 985, 'ettiar': 984, 'etringer': 983, 'ethical': 982, 'etc': 981, 'et': 980, 'estimates': 979, 'estimated': 978, 'estimate': 977, 'estate': 976, 'establishing': 975, 'established': 974, 'establish': 973, 'essential': 972, 'espey': 971, 'especially': 970, 'escrow': 969, 'erter': 968, 'ermis': 967, 'erica': 966, 'eric': 965, 'er': 964, 'equity': 963, 'equipment': 962, 'equal': 961, 'eps': 960, 'epng': 959, 'epexwx': 958, 'eol': 957, 'eog': 956, 'envelope': 955, 'entry': 954, 'entries': 953, 'entity': 952, 'entities': 951, 'entire': 950, 'entered': 949, 'enter': 948, 'ensure': 947, 'enronxgate': 946, 'enrononline': 945, 'enron': 944, 'enrolled': 943, 'enroll': 942, 'enr': 941, 'enough': 940, 'enormous': 939, 'enlightening': 938, 'enjoying': 937, 'enhancing': 936, 'engineering': 935, 'engineer': 934, 'energy': 933, 'end': 932, 'enclosed': 931, 'enable': 930, 'ena': 929, 'en': 928, 'employment': 927, 'employer': 926, 'employees': 925, 'employee': 924, 'emergency': 923, 'embedded': 922, 'emailed': 921, 'email': 920, 'ely': 919, 'elvis': 918, 'else': 917, 'elsa': 916, 'ellis': 915, 'elizabeth': 914, 'eliminate': 913, 'eleven': 912, 'elena': 911, 'elements': 910, 'electricity': 909, 'electric': 908, 'elbertson': 907, 'el': 906, 'either': 905, 'eight': 904, 'eglobal': 903, 'efforts': 902, 'effort': 901, 'effectiveness': 900, 'effect': 899, 'ees': 898, 'edwards': 897, 'edward': 896, 'education': 895, 'edit': 894, 'edison': 893, 'edgar': 892, 'ed': 891, 'ectpdx': 890, 'ecthou': 889, 'ect': 888, 'ecp': 887, 'economic': 886, 'ec': 885, 'eb': 884, 'easily': 883, 'easement': 882, 'earnings': 881, 'early': 880, 'earlier': 879, 'each': 878, 'dynamic': 877, 'dyer': 876, 'dutt': 875, 'duties': 874, 'dusty': 873, 'dust': 872, 'during': 871, 'duran': 870, 'duplexes': 869, 'duplex': 868, 'dunn': 867, 'dumont': 866, 'due': 865, 'ducote': 864, 'dsl': 863, 'drywall': 862, 'drummond': 861, 'drop': 860, 'drive': 859, 'drill': 858, 'drawings': 857, 'dramatically': 856, 'drag': 855, 'draft': 854, 'downs': 853, 'downpayment': 852, 'downloadable': 851, 'download': 850, 'downdrafts': 849, 'downdraft': 848, 'down': 847, 'douglas': 846, 'doubt': 845, 'double': 844, 'dorn': 843, 'doors': 842, 'donna': 841, 'done': 840, 'donald': 839, 'donahue': 838, 'don': 837, 'domain': 836, 'dolores': 835, 'dollar': 834, 'doing': 833, 'doesn': 832, 'does': 831, 'doe': 830, 'documents': 829, 'documenting': 828, 'document': 827, 'dobler': 826, 'doan': 825, 'do': 824, 'dns': 823, 'distributor': 822, 'distribution': 821, 'distributed': 820, 'distribute': 819, 'distort': 818, 'distinguish': 817, 'disney': 816, 'discussions': 815, 'discussion': 814, 'discussed': 813, 'discuss': 812, 'discount': 811, 'disclose': 810, 'discharge': 809, 'disbursements': 808, 'disbursement': 807, 'disallowance': 806, 'disagreement': 805, 'directors': 804, 'directly': 803, 'directions': 802, 'direction': 801, 'direct': 800, 'dina': 799, 'dimensions': 798, 'dillard': 797, 'difficult': 796, 'differently': 795, 'different': 794, 'differences': 793, 'difference': 792, 'diff': 791, 'dietrich': 790, 'diego': 789, 'didn': 788, 'did': 787, 'dicey': 786, 'diana': 785, 'devil': 784, 'developments': 783, 'development': 782, 'developing': 781, 'developers': 780, 'developer': 779, 'developed': 778, 'develop': 777, 'deve': 776, 'detmering': 775, 'determine': 774, 'detention': 773, 'details': 772, 'detailing': 771, 'detailed': 770, 'detail': 769, 'desktop': 768, 'desks': 767, 'desk': 766, 'desired': 765, 'desire': 764, 'designated': 763, 'design': 762, 'description': 761, 'described': 760, 'describe': 759, 'derek': 758, 'deposit': 757, 'deployment': 756, 'depending': 755, 'depended': 754, 'department': 753, 'denys': 752, 'denver': 751, 'densley': 750, 'dennis': 749, 'denis': 748, 'den': 747, 'dempsey': 746, 'demographics': 745, 'demand': 744, 'deltas': 743, 'delta': 742, 'delivery': 741, 'delivered': 740, 'delete': 739, 'delegation': 738, 'delayed': 737, 'delay': 736, 'delaney': 735, 'delainey': 734, 'del': 733, 'degen': 732, 'define': 731, 'deffner': 730, 'deep': 729, 'decoo': 728, 'decked': 727, 'decisions': 726, 'decision': 725, 'decides': 724, 'decide': 723, 'december': 722, 'debt': 721, 'debra': 720, 'deborah': 719, 'debbie': 718, 'dear': 717, 'deana': 716, 'deals': 715, 'dealing': 714, 'deal': 713, 'de': 712, 'dd': 711, 'days': 710, 'day': 709, 'dawn': 708, 'daw': 707, 'davis': 706, 'davidson': 705, 'david': 704, 'dave': 703, 'dates': 702, 'date': 701, 'databases': 700, 'database': 699, 'data': 698, 'dat': 697, 'dasovich': 696, 'darvin': 695, 'darron': 694, 'darren': 693, 'darlene': 692, 'danny': 691, 'daniel': 690, 'dallas': 689, 'dale': 688, 'daily': 687, 'dad': 686, 'cynthia': 685, 'cyclist': 684, 'cycling': 683, 'customized': 682, 'customers': 681, 'customer': 680, 'curves': 679, 'curve': 678, 'curt': 677, 'currently': 676, 'current': 675, 'currency': 674, 'cuilla': 673, 'ctatham': 672, 'ct': 671, 'crystal': 670, 'crumps': 669, 'crude': 668, 'crocker': 667, 'critical': 666, 'cristina': 665, 'crim': 664, 'crenshaw': 663, 'creekside': 662, 'creek': 661, 'credit': 660, 'creating': 659, 'created': 658, 'create': 657, 'crane': 656, 'craig': 655, 'cpa': 654, 'coverage': 653, 'cover': 652, 'course': 651, 'couple': 650, 'county': 649, 'counterparty': 648, 'counterparties': 647, 'counted': 646, 'count': 645, 'could': 644, 'couch': 643, 'costs': 642, 'costly': 641, 'cost': 640, 'corridor': 639, 'corresponding': 638, 'correlations': 637, 'correlation': 636, 'correct': 635, 'corporate': 634, 'corp': 633, 'cornice': 632, 'cora': 631, 'cor': 630, 'copy': 629, 'coordinator': 628, 'coordination': 627, 'cooper': 626, 'converting': 625, 'conversions': 624, 'conversations': 623, 'conversation': 622, 'convenient': 621, 'controls': 620, 'control': 619, 'contractor': 618, 'contract': 617, 'continue': 616, 'contains': 615, 'containing': 614, 'contain': 613, 'contacts': 612, 'contact': 611, 'consumption': 610, 'consuming': 609, 'consumers': 608, 'consumer': 607, 'consumed': 606, 'consulting': 605, 'construction': 604, 'construct': 603, 'constantly': 602, 'consolidation': 601, 'consolidated': 600, 'consolidate': 599, 'consistent': 598, 'considers': 597, 'considering': 596, 'consider': 595, 'consent': 594, 'consensus': 593, 'connect': 592, 'congratulations': 591, 'conflicts': 590, 'confirmation': 589, 'confirm': 588, 'configured': 587, 'confidentiality': 586, 'conference': 585, 'coneway': 584, 'conducted': 583, 'conduct': 582, 'condominium': 581, 'concerns': 580, 'concerned': 579, 'concern': 578, 'concannon': 577, 'computer': 576, 'composite': 575, 'compliance': 574, 'complex': 573, 'completion': 572, 'completing': 571, 'completely': 570, 'completed': 569, 'complete': 568, 'complaining': 567, 'compiled': 566, 'competitive': 565, 'competition': 564, 'compared': 563, 'compare': 562, 'company': 561, 'companies': 560, 'comnes': 559, 'communities': 558, 'communications': 557, 'communication': 556, 'communicat': 555, 'commun': 554, 'commodity': 553, 'committee': 552, 'commissions': 551, 'commissioners': 550, 'commissioner': 549, 'commission': 548, 'commercial': 547, 'comments': 546, 'comment': 545, 'command': 544, 'coming': 543, 'comfortable': 542, 'comes': 541, 'come': 540, 'combined': 539, 'com': 538, 'colwell': 537, 'columns': 536, 'column': 535, 'columbia': 534, 'collins': 533, 'college': 532, 'colleen': 531, 'collecting': 530, 'collect': 529, 'colleagues': 528, 'colleague': 527, 'collateral': 526, 'collars': 525, 'collar': 524, 'cole': 523, 'cocavessis': 522, 'coates': 521, 'coach': 520, 'coa': 519, 'co': 518, 'closing': 517, 'closed': 516, 'close': 515, 'cline': 514, 'clifford': 513, 'cliff': 512, 'clients': 511, 'client': 510, 'click': 509, 'clearly': 508, 'clear': 507, 'clean': 506, 'clayton': 505, 'clay': 504, 'clause': 503, 'claudia': 502, 'claudette': 501, 'classic': 500, 'class': 499, 'clark': 498, 'clarification': 497, 'cl': 496, 'ck': 495, 'civil': 494, 'citygate': 493, 'city': 492, 'cindy': 491, 'cig': 490, 'cicchetti': 489, 'ci': 488, 'chuck': 487, 'christy': 486, 'christopher': 485, 'christine': 484, 'christi': 483, 'chris': 482, 'chrg': 481, 'choose': 480, 'choices': 479, 'choice': 478, 'chnlownr': 477, 'chicago': 476, 'cherylene': 475, 'cheryl': 474, 'cherry': 473, 'chen': 472, 'chelsea': 471, 'checks': 470, 'checking': 469, 'checker': 468, 'checked': 467, 'checkbook': 466, 'check': 465, 'cheaper': 464, 'chavez': 463, 'charts': 462, 'chart': 461, 'charlotte': 460, 'charles': 459, 'charges': 458, 'charged': 457, 'charge': 456, 'chapman': 455, 'changes': 454, 'changed': 453, 'change': 452, 'chance': 451, 'chairperson': 450, 'chairman': 449, 'ch': 448, 'cerezo': 447, 'century': 446, 'cents': 445, 'central': 444, 'centerck': 443, 'center': 442, 'cems': 441, 'cemms': 440, 'cell': 439, 'celeste': 438, 'cdt': 437, 'ccarty': 436, 'cc': 435, 'cb': 434, 'cautious': 433, 'causes': 432, 'cathy': 431, 'catherine': 430, 'category': 429, 'castellano': 428, 'castagnola': 427, 'cash': 426, 'cases': 425, 'case': 424, 'casas': 423, 'cary': 422, 'carter': 421, 'carroll': 420, 'carries': 419, 'carrick': 418, 'carrabine': 417, 'carpenters': 416, 'carpenter': 415, 'carolyn': 414, 'carole': 413, 'carl': 412, 'careful': 411, 'care': 410, 'capture': 409, 'caps': 408, 'capacity': 407, 'capability': 406, 'cap': 405, 'cantrell': 404, 'candidates': 403, 'cancel': 402, 'canada': 401, 'can': 400, 'campos': 399, 'caminus': 398, 'camille': 397, 'cameron': 396, 'calpine': 395, 'call': 394, 'california': 393, 'calger': 392, 'calendars': 391, 'calendar': 390, 'calculation': 389, 'calcagno': 388, 'cal': 387, 'caiso': 386, 'cactus': 385, 'ca': 384, 'byrne': 383, 'bypassed': 382, 'by': 381, 'buys': 380, 'buying': 379, 'buyers': 378, 'buyer': 377, 'buy': 376, 'button': 375, 'but': 374, 'busy': 373, 'business': 372, 'burnett': 371, 'burnet': 370, 'burnertip': 369, 'burchfield': 368, 'bumped': 367, 'bulletin': 366, 'bullet': 365, 'bulge': 364, 'built': 363, 'buildings': 362, 'building': 361, 'builders': 360, 'builder': 359, 'build': 358, 'buenrostro': 357, 'buckner': 356, 'buckley': 355, 'buck': 354, 'bs': 353, 'bryan': 352, 'bruce': 351, 'browser': 350, 'brown': 349, 'brought': 348, 'brokering': 347, 'brokered': 346, 'brokerage': 345, 'broker': 344, 'bring': 343, 'briefing': 342, 'brief': 341, 'bridged': 340, 'brian': 339, 'breslau': 338, 'brent': 337, 'brenda': 336, 'breese': 335, 'breakout': 334, 'break': 333, 'brawner': 332, 'branney': 331, 'brandon': 330, 'brady': 329, 'bradley': 328, 'braden': 327, 'brad': 326, 'bra': 325, 'box': 324, 'bowen': 323, 'bought': 322, 'boudreaux': 321, 'bottom': 320, 'both': 319, 'borrower': 318, 'border': 317, 'books': 316, 'bookkeeping': 315, 'booking': 314, 'booked': 313, 'book': 312, 'bonne': 311, 'bond': 310, 'boegler': 309, 'bobbie': 308, 'bob': 307, 'boat': 306, 'board': 305, 'blesie': 304, 'bland': 303, 'blanco': 302, 'blair': 301, 'black': 300, 'birthdays': 299, 'birthday': 298, 'binh': 297, 'binding': 296, 'billy': 295, 'billi': 294, 'bilal': 293, 'biking': 292, 'bike': 291, 'big': 290, 'bierbach': 289, 'bieniawski': 288, 'bidweek': 287, 'bids': 286, 'bidding': 285, 'bid': 284, 'beyond': 283, 'beyer': 282, 'bev': 281, 'between': 280, 'betwee': 279, 'betty': 278, 'better': 277, 'beth': 276, 'best': 275, 'besides': 274, 'beside': 273, 'benedict': 272, 'benchmark': 271, 'below': 270, 'believe': 269, 'belief': 268, 'belden': 267, 'being': 266, 'behind': 265, 'beginning': 264, 'began': 263, 'before': 262, 'been': 261, 'bedrooms': 260, 'bedroom': 259, 'bedridden': 258, 'become': 257, 'beck': 256, 'because': 255, 'beat': 254, 'be': 253, 'baumbach': 252, 'baughman': 251, 'bath': 250, 'basis': 249, 'basin': 248, 'basically': 247, 'basic': 246, 'based': 245, 'base': 244, 'barry': 243, 'barrios': 242, 'barney': 241, 'barbara': 240, 'bar': 239, 'bank': 238, 'bang': 237, 'balladares': 236, 'ball': 235, 'balances': 234, 'baker': 233, 'bajwa': 232, 'baig': 231, 'badeer': 230, 'bad': 229, 'back': 228, 'baby': 227, 'ayres': 226, 'away': 225, 'aware': 224, 'avg': 223, 'average': 222, 'available': 221, 'availab': 220, 'automatically': 219, 'automatic': 218, 'authorize': 217, 'authorization': 216, 'austin': 215, 'august': 214, 'aug': 213, 'atty': 212, 'attractive': 211, 'attracted': 210, 'attorney': 209, 'attention': 208, 'attending': 207, 'attended': 206, 'attendance': 205, 'attend': 204, 'attempt': 203, 'attachment': 202, 'attached': 201, 'attach': 200, 'at': 199, 'assure': 198, 'assumptions': 197, 'assuming': 196, 'assume': 195, 'association': 194, 'associates': 193, 'associated': 192, 'associate': 191, 'assoc': 190, 'assistant': 189, 'assistance': 188, 'assist': 187, 'assets': 186, 'asset': 185, 'assessment': 184, 'ass': 183, 'asp': 182, 'asking': 181, 'asked': 180, 'ask': 179, 'asap': 178, 'as': 177, 'article': 176, 'arthur': 175, 'arteaga': 174, 'arrange': 173, 'around': 172, 'aronowitz': 171, 'arnold': 170, 'armstrong': 169, 'area': 168, 'are': 167, 'architectural': 166, 'architects': 165, 'arcade': 164, 'araceli': 163, 'apt': 162, 'april': 161, 'approximately': 160, 'approximate': 159, 'approved': 158, 'approve': 157, 'approval': 156, 'appropriate': 155, 'approach': 154, 'appreciated': 153, 'appreciate': 152, 'appraised': 151, 'appraisals': 150, 'apply': 149, 'applications': 148, 'application': 147, 'appliance': 146, 'appears': 145, 'appear': 144, 'apb': 143, 'apartments': 142, 'apartment': 141, 'anyway': 140, 'anytime': 139, 'anything': 138, 'anyone': 137, 'any': 136, 'ants': 135, 'antonio': 134, 'anticipated': 133, 'anti': 132, 'answered': 131, 'answer': 130, 'another': 129, 'annual': 128, 'annoy': 127, 'announcement': 126, 'anne': 125, 'anna': 124, 'ann': 123, 'animation': 122, 'angie': 121, 'angela': 120, 'ane': 119, 'andy': 118, 'andrew': 117, 'andrea': 116, 'anderson': 115, 'and': 114, 'analysts': 113, 'analyst': 112, 'analysis': 111, 'anabel': 110, 'ana': 109, 'an': 108, 'amy': 107, 'amw': 106, 'amt': 105, 'amounts': 104, 'amount': 103, 'amortization': 102, 'amongst': 101, 'among': 100, 'amir': 99, 'ames': 98, 'american': 97, 'america': 96, 'amerex': 95, 'am': 94, 'always': 93, 'alvin': 92, 'alvarez': 91, 'although': 90, 'alternatives': 89, 'alternative': 88, 'also': 87, 'already': 86, 'alot': 85, 'along': 84, 'almost': 83, 'allwein': 82, 'alluded': 81, 'allow': 80, 'allison': 79, 'alliance': 78, 'allen': 77, 'allan': 76, 'all': 75, 'alix': 74, 'alford': 73, 'alert': 72, 'alejandra': 71, 'alcantara': 70, 'albuquerque': 69, 'albrecht': 68, 'alberto': 67, 'albert': 66, 'alatorre': 65, 'alan': 64, 'al': 63, 'ajello': 62, 'airborne': 61, 'airam': 60, 'ailbox': 59, 'aid': 58, 'ahead': 57, 'agreement': 56, 'agreed': 55, 'ago': 54, 'aggregation': 53, 'agenda': 52, 'against': 51, 'again': 50, 'afternoon': 49, 'after': 48, 'affects': 47, 'affect': 46, 'aeco': 45, 'advocate': 44, 'advantage': 43, 'advance': 42, 'administrative': 41, 'administration': 40, 'adjustment': 39, 'adjust': 38, 'adjoining': 37, 'ader': 36, 'addresses': 35, 'address': 34, 'additionally': 33, 'additional': 32, 'addition': 31, 'adding': 30, 'added': 29, 'add': 28, 'adair': 27, 'ad': 26, 'actually': 25, 'actual': 24, 'activity': 23, 'activities': 22, 'active': 21, 'action': 20, 'act': 19, 'across': 18, 'acre': 17, 'accurate': 16, 'accounts': 15, 'account': 14, 'according': 13, 'accomplish': 12, 'accommodating': 11, 'accessing': 10, 'accessible': 9, 'access': 8, 'accepted': 7, 'acceptable': 6, 'accept': 5, 'abroad': 4, 'above': 3, 'about': 2, 'able': 1, 'ability': 0}\n"
     ]
    }
   ],
   "source": [
    "# vectorisation du corpus de mots\n",
    "\n",
    "from sklearn.feature_extraction.text import CountVectorizer\n",
    "\n",
    "# Créer un vectorisateur\n",
    "vectorizer = CountVectorizer()\n",
    "\n",
    "# Appliquer Bag of words à la variable tokens\n",
    "vectorizer.fit_transform(mots).todense()\n",
    "\n",
    "# Récupération des tokens\n",
    "tokenized = vectorizer.vocabulary_\n",
    "token=dict(sorted(tokenized.items(),key= lambda x:x[1],reverse=True))\n",
    "\n",
    "print(token)\n",
    "\n",
    "\n"
   ]
  },
  {
   "cell_type": "code",
   "execution_count": 80,
   "metadata": {},
   "outputs": [
    {
     "data": {
      "text/plain": [
       "200"
      ]
     },
     "execution_count": 80,
     "metadata": {},
     "output_type": "execute_result"
    }
   ],
   "source": [
    "# essai de vectorisation \n",
    "\n",
    "#print(vectorizer.transform([\"laissez-vous\",\"dd\"]).toarray())\n",
    "len(df['body'])"
   ]
  },
  {
   "cell_type": "code",
   "execution_count": 109,
   "metadata": {},
   "outputs": [
    {
     "data": {
      "text/html": [
       "<div>\n",
       "<style scoped>\n",
       "    .dataframe tbody tr th:only-of-type {\n",
       "        vertical-align: middle;\n",
       "    }\n",
       "\n",
       "    .dataframe tbody tr th {\n",
       "        vertical-align: top;\n",
       "    }\n",
       "\n",
       "    .dataframe thead th {\n",
       "        text-align: right;\n",
       "    }\n",
       "</style>\n",
       "<table border=\"1\" class=\"dataframe\">\n",
       "  <thead>\n",
       "    <tr style=\"text-align: right;\">\n",
       "      <th></th>\n",
       "      <th>Unnamed: 0</th>\n",
       "      <th>date</th>\n",
       "      <th>from</th>\n",
       "      <th>to</th>\n",
       "      <th>header</th>\n",
       "      <th>body</th>\n",
       "      <th>body_vec</th>\n",
       "      <th>body_clean</th>\n",
       "      <th>body_vect</th>\n",
       "    </tr>\n",
       "  </thead>\n",
       "  <tbody>\n",
       "    <tr>\n",
       "      <th>0</th>\n",
       "      <td>0.0</td>\n",
       "      <td>2001-05-14 16:39:00-07:00</td>\n",
       "      <td>phillip.allen@enron.com</td>\n",
       "      <td>tim.belden@enron.com</td>\n",
       "      <td>NaN</td>\n",
       "      <td>['', 'Here is our forecast', '', ' ']</td>\n",
       "      <td></td>\n",
       "      <td>Here is our forecast</td>\n",
       "      <td>[[0, 0, 0, 0, 0, 0, 0, 0, 0, 0, 0, 0, 0, 0, 0,...</td>\n",
       "    </tr>\n",
       "    <tr>\n",
       "      <th>1</th>\n",
       "      <td>1.0</td>\n",
       "      <td>2001-05-04 13:51:00-07:00</td>\n",
       "      <td>phillip.allen@enron.com</td>\n",
       "      <td>john.lavorato@enron.com</td>\n",
       "      <td>Re:</td>\n",
       "      <td>['', 'Traveling to have a business meeting tak...</td>\n",
       "      <td></td>\n",
       "      <td>Traveling to have a business meeting takes th...</td>\n",
       "      <td>[[0, 0, 1, 0, 0, 0, 0, 0, 0, 0, 0, 0, 0, 0, 0,...</td>\n",
       "    </tr>\n",
       "    <tr>\n",
       "      <th>2</th>\n",
       "      <td>2.0</td>\n",
       "      <td>2000-10-18 03:00:00-07:00</td>\n",
       "      <td>phillip.allen@enron.com</td>\n",
       "      <td>leah.arsdall@enron.com</td>\n",
       "      <td>Re: test</td>\n",
       "      <td>['', 'test successful.  way to go!!!']</td>\n",
       "      <td></td>\n",
       "      <td>test successful way to go</td>\n",
       "      <td>[[0, 0, 0, 0, 0, 0, 0, 0, 0, 0, 0, 0, 0, 0, 0,...</td>\n",
       "    </tr>\n",
       "  </tbody>\n",
       "</table>\n",
       "</div>"
      ],
      "text/plain": [
       "   Unnamed: 0                       date                     from  \\\n",
       "0         0.0  2001-05-14 16:39:00-07:00  phillip.allen@enron.com   \n",
       "1         1.0  2001-05-04 13:51:00-07:00  phillip.allen@enron.com   \n",
       "2         2.0  2000-10-18 03:00:00-07:00  phillip.allen@enron.com   \n",
       "\n",
       "                        to    header  \\\n",
       "0     tim.belden@enron.com       NaN   \n",
       "1  john.lavorato@enron.com       Re:   \n",
       "2   leah.arsdall@enron.com  Re: test   \n",
       "\n",
       "                                                body body_vec  \\\n",
       "0              ['', 'Here is our forecast', '', ' ']            \n",
       "1  ['', 'Traveling to have a business meeting tak...            \n",
       "2             ['', 'test successful.  way to go!!!']            \n",
       "\n",
       "                                          body_clean  \\\n",
       "0                              Here is our forecast    \n",
       "1   Traveling to have a business meeting takes th...   \n",
       "2                         test successful way to go    \n",
       "\n",
       "                                           body_vect  \n",
       "0  [[0, 0, 0, 0, 0, 0, 0, 0, 0, 0, 0, 0, 0, 0, 0,...  \n",
       "1  [[0, 0, 1, 0, 0, 0, 0, 0, 0, 0, 0, 0, 0, 0, 0,...  \n",
       "2  [[0, 0, 0, 0, 0, 0, 0, 0, 0, 0, 0, 0, 0, 0, 0,...  "
      ]
     },
     "execution_count": 109,
     "metadata": {},
     "output_type": "execute_result"
    }
   ],
   "source": [
    "# vectorisation de chaque email 1 par 1 et enregistrement dans une colonne dédiée body_vect, au passage création de body_clean\n",
    "def vectorisation(df):\n",
    "    texte=[]\n",
    "    df['body_clean']=\"\"\n",
    "    for i,j in enumerate(df['body']):\n",
    "        text=data_cleanstr(str(j))\n",
    "        df.loc[i,\"body_clean\"]=text\n",
    "        df.loc[i,\"body_vect\"]=[vectorizer.transform([text]).toarray()]\n",
    "        \n",
    "        \n",
    " \n",
    "# liste contenant le corpus de mots, le premier avec les stopwords, le second sans les stopswords --> épuré des chiffres,\n",
    "# et des signes de punctuations ou autres\n",
    "\n",
    "vectorisation(df)\n",
    "\n",
    "df.head(3)\n"
   ]
  },
  {
   "cell_type": "code",
   "execution_count": 120,
   "metadata": {},
   "outputs": [
    {
     "data": {
      "text/plain": [
       "' Traveling to have a business meeting takes the fun out of the trip Especially if you have to prepare a presentation I would suggest holding the business plan meetings here then take a trip without any formal business meetings I would even try and get some honest opinions on whether a trip is even desired or necessary As far as the business meetings I think it would be more productive to try and stimulate discussions across the different groups about what is working and what is not Too often the presenter speaks and the others are quiet just waiting for their turn The meetings might be better if held in a round table discussion format My suggestion for where to go is Austin Play golf and rent a ski boat and jet ski s Flying somewhere takes too much time '"
      ]
     },
     "execution_count": 120,
     "metadata": {},
     "output_type": "execute_result"
    }
   ],
   "source": [
    "df['body_clean'][1]"
   ]
  },
  {
   "cell_type": "code",
   "execution_count": null,
   "metadata": {},
   "outputs": [],
   "source": []
  }
 ],
 "metadata": {
  "kernelspec": {
   "display_name": "Python 3 (ipykernel)",
   "language": "python",
   "name": "python3"
  },
  "language_info": {
   "codemirror_mode": {
    "name": "ipython",
    "version": 3
   },
   "file_extension": ".py",
   "mimetype": "text/x-python",
   "name": "python",
   "nbconvert_exporter": "python",
   "pygments_lexer": "ipython3",
   "version": "3.9.7"
  }
 },
 "nbformat": 4,
 "nbformat_minor": 2
}
