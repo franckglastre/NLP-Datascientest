{
 "cells": [
  {
   "cell_type": "code",
   "execution_count": 1,
   "metadata": {},
   "outputs": [
    {
     "name": "stdout",
     "output_type": "stream",
     "text": [
      "177010\n",
      "                       Entity    Type\n",
      "0           Chris Stevens FVV  PERSON\n",
      "1                       Cairo     GPE\n",
      "2     Behind Anti-Muslim Film  PERSON\n",
      "3                 Anti-Muslim    NORP\n",
      "4                       Libya     GPE\n",
      "...                       ...     ...\n",
      "4899                      TNR     ORG\n",
      "4900                Fw: Wyden     ORG\n",
      "4901                  Richard  PERSON\n",
      "4902                      TNR     ORG\n",
      "4903                  Clinton  PERSON\n",
      "\n",
      "[4904 rows x 2 columns]\n"
     ]
    },
    {
     "data": {
      "text/plain": [
       "Reuters                    136\n",
       "AP                         135\n",
       "Fw:                        128\n",
       "Haiti                       99\n",
       "Iran                        59\n",
       "U.S.                        56\n",
       "US                          49\n",
       "Pakistan                    48\n",
       "Libya                       33\n",
       "Israel                      33\n",
       "UK                          30\n",
       "Turkey                      29\n",
       "UN                          24\n",
       "HRC                         24\n",
       "Afghanistan                 23\n",
       "China                       19\n",
       "Honduras                    16\n",
       "SBU                         15\n",
       "London                      14\n",
       "Russia                      14\n",
       "Sudan                       14\n",
       "Egypt                       13\n",
       "EU                          12\n",
       "Gaza                        12\n",
       "Kyrgyzstan                  12\n",
       "Benghazi                    11\n",
       "FW                          11\n",
       "Senate                      10\n",
       "FYI                         10\n",
       "Palau                       10\n",
       "Intel                       10\n",
       "Brazil                      10\n",
       "NATO                        10\n",
       "Mexico                       9\n",
       "Shanghai                     9\n",
       "Hamas                        9\n",
       "Argentina                    9\n",
       "State                        8\n",
       "Out of Office AutoReply      8\n",
       "BBC                          8\n",
       "Kabul                        8\n",
       "Qatar                        7\n",
       "Canada                       7\n",
       "India                        7\n",
       "ROK                          7\n",
       "Iraq                         7\n",
       "Taliban                      6\n",
       "Syria                        6\n",
       "North Korea                  6\n",
       "NPR                          6\n",
       "Name: Entity, dtype: int64"
      ]
     },
     "execution_count": 1,
     "metadata": {},
     "output_type": "execute_result"
    }
   ],
   "source": [
    "import spacy\n",
    "from spacy import displacy\n",
    "\n",
    "\n",
    "import pandas as pd\n",
    "df=pd.read_csv(\"Emails.csv\")\n",
    "filtre=df[df.ExtractedSubject.notna()]\n",
    "chaine=[]\n",
    "for i in filtre.ExtractedSubject:\n",
    "    chaine.append(i)\n",
    "texte=\" \".join(chaine)\n",
    "\n",
    "nlp = spacy.load(\"en_core_web_sm\")\n",
    "#nlp.max_length = len(texte)\n",
    "print(len(texte))\n",
    "#nlp = spacy.load('fr')\n",
    "#texte = texte.lower()\n",
    "doc = nlp(texte[:1000000])\n",
    "#doc = nlp(texte)\n",
    "#print('Name Entity: {0}'.format(doc.ents))\n",
    "ents = [(e.text, e.label_, e.kb_id_) for e in doc.ents]\n",
    " \n",
    "import  numpy as np\n",
    "import pandas as pd\n",
    "df_ents = pd.DataFrame(ents, columns = ['Entity','Type','Id'])\n",
    "df_ents = df_ents.drop('Id', axis=1)\n",
    "print (df_ents)\n",
    "df1 = df_ents[(df_ents['Type'] =='GPE') | (df_ents['Type'] =='ORG')]\n",
    "df1['Entity'].value_counts().head(50)"
   ]
  },
  {
   "cell_type": "code",
   "execution_count": null,
   "metadata": {},
   "outputs": [],
   "source": []
  }
 ],
 "metadata": {
  "kernelspec": {
   "display_name": "Python 3 (ipykernel)",
   "language": "python",
   "name": "python3"
  },
  "language_info": {
   "codemirror_mode": {
    "name": "ipython",
    "version": 3
   },
   "file_extension": ".py",
   "mimetype": "text/x-python",
   "name": "python",
   "nbconvert_exporter": "python",
   "pygments_lexer": "ipython3",
   "version": "3.9.7"
  }
 },
 "nbformat": 4,
 "nbformat_minor": 2
}
