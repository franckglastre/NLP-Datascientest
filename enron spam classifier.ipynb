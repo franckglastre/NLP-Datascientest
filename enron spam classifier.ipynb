{
 "cells": [
  {
   "cell_type": "code",
   "execution_count": 1,
   "metadata": {},
   "outputs": [],
   "source": [
    "import pandas as pd\n",
    "df=pd.read_csv(r'/Users/franckglastre/Desktop/labeled_emails.csv')"
   ]
  },
  {
   "cell_type": "code",
   "execution_count": 27,
   "metadata": {},
   "outputs": [
    {
     "data": {
      "text/html": [
       "<div>\n",
       "<style scoped>\n",
       "    .dataframe tbody tr th:only-of-type {\n",
       "        vertical-align: middle;\n",
       "    }\n",
       "\n",
       "    .dataframe tbody tr th {\n",
       "        vertical-align: top;\n",
       "    }\n",
       "\n",
       "    .dataframe thead th {\n",
       "        text-align: right;\n",
       "    }\n",
       "</style>\n",
       "<table border=\"1\" class=\"dataframe\">\n",
       "  <thead>\n",
       "    <tr style=\"text-align: right;\">\n",
       "      <th></th>\n",
       "      <th>email</th>\n",
       "      <th>label</th>\n",
       "    </tr>\n",
       "  </thead>\n",
       "  <tbody>\n",
       "    <tr>\n",
       "      <td>0</td>\n",
       "      <td>Subject: re : rankings\\nthank you .</td>\n",
       "      <td>ham</td>\n",
       "    </tr>\n",
       "    <tr>\n",
       "      <td>1</td>\n",
       "      <td>Subject: re : visit to enron\\nvince ,\\ndec . 2...</td>\n",
       "      <td>ham</td>\n",
       "    </tr>\n",
       "    <tr>\n",
       "      <td>2</td>\n",
       "      <td>Subject: research group move to the 19 th floo...</td>\n",
       "      <td>ham</td>\n",
       "    </tr>\n",
       "    <tr>\n",
       "      <td>3</td>\n",
       "      <td>Subject: christmas baskets\\nthe christmas bask...</td>\n",
       "      <td>ham</td>\n",
       "    </tr>\n",
       "    <tr>\n",
       "      <td>4</td>\n",
       "      <td>Subject: japan candidate\\nvince ,\\ni spoke wit...</td>\n",
       "      <td>ham</td>\n",
       "    </tr>\n",
       "  </tbody>\n",
       "</table>\n",
       "</div>"
      ],
      "text/plain": [
       "                                               email label\n",
       "0                Subject: re : rankings\\nthank you .   ham\n",
       "1  Subject: re : visit to enron\\nvince ,\\ndec . 2...   ham\n",
       "2  Subject: research group move to the 19 th floo...   ham\n",
       "3  Subject: christmas baskets\\nthe christmas bask...   ham\n",
       "4  Subject: japan candidate\\nvince ,\\ni spoke wit...   ham"
      ]
     },
     "execution_count": 27,
     "metadata": {},
     "output_type": "execute_result"
    }
   ],
   "source": [
    "df.head(5)"
   ]
  },
  {
   "cell_type": "code",
   "execution_count": 28,
   "metadata": {},
   "outputs": [
    {
     "name": "stdout",
     "output_type": "stream",
     "text": [
      "<class 'pandas.core.frame.DataFrame'>\n",
      "RangeIndex: 5854 entries, 0 to 5853\n",
      "Data columns (total 2 columns):\n",
      "email    5854 non-null object\n",
      "label    5854 non-null object\n",
      "dtypes: object(2)\n",
      "memory usage: 91.6+ KB\n"
     ]
    }
   ],
   "source": [
    "df.info()"
   ]
  },
  {
   "cell_type": "code",
   "execution_count": 29,
   "metadata": {},
   "outputs": [
    {
     "data": {
      "text/plain": [
       "'Subject: re : visit to enron\\nvince ,\\ndec . 29 at 9 : 00 will be fine . i have talked to shirley and have\\ndirections .\\nthanks , bob\\nvince j kaminski wrote :\\n> bob ,\\n>\\n> can you come to our office on dec 29 at 9 : 00 a . m . ?\\n>\\n> please , call shirley crenshaw ( 3 - 5290 ) or stinson gibner ( 3 - 4748 )\\n> from the reception to be admitted to the building .\\n>\\n> vince kaminski'"
      ]
     },
     "execution_count": 29,
     "metadata": {},
     "output_type": "execute_result"
    }
   ],
   "source": [
    "df.iloc[1]['email']"
   ]
  },
  {
   "cell_type": "code",
   "execution_count": 30,
   "metadata": {},
   "outputs": [
    {
     "data": {
      "text/plain": [
       "ham     4358\n",
       "spam    1496\n",
       "Name: label, dtype: int64"
      ]
     },
     "execution_count": 30,
     "metadata": {},
     "output_type": "execute_result"
    }
   ],
   "source": [
    "df.label.value_counts()"
   ]
  },
  {
   "cell_type": "code",
   "execution_count": 31,
   "metadata": {},
   "outputs": [
    {
     "data": {
      "text/plain": [
       "\"Subject: spend too much on your phone bill ? 25711\\ncrystal clear connection with unlimited\\nlong distance usage for one low flat rate !\\nnow\\ntry it for free ! ! * see for\\nyourself .\\nwe ' ll activate\\nyour flat rate unlimited long distance service for 1 week free * to prove\\nthat the quality of service is what you\\nexpect .\\ncall now ! operators standing\\nby to activate your service .\\ntoll free : 877 - 529 - 7358 monday through friday 9 am to 9 pm\\nedt\\nfor more information :\\nyour\\nname :\\ncity :\\nstate :\\ndaytime\\nphone :\\nnighttime\\nphone :\\nemail :\\n* one week free\\noffer is valid to those who have a valid checking account . service is\\nnever billed until after the 1 week free trial\\nperiod .\\nif you have received this by error or wish to be\\nremoved from our mailing list , please click\\nhere\""
      ]
     },
     "execution_count": 31,
     "metadata": {},
     "output_type": "execute_result"
    }
   ],
   "source": [
    "df[df.label==\"spam\"].iloc[1]['email']"
   ]
  },
  {
   "cell_type": "code",
   "execution_count": null,
   "metadata": {},
   "outputs": [],
   "source": []
  }
 ],
 "metadata": {
  "kernelspec": {
   "display_name": "Python 3",
   "language": "python",
   "name": "python3"
  },
  "language_info": {
   "codemirror_mode": {
    "name": "ipython",
    "version": 3
   },
   "file_extension": ".py",
   "mimetype": "text/x-python",
   "name": "python",
   "nbconvert_exporter": "python",
   "pygments_lexer": "ipython3",
   "version": "3.7.4"
  }
 },
 "nbformat": 4,
 "nbformat_minor": 2
}
