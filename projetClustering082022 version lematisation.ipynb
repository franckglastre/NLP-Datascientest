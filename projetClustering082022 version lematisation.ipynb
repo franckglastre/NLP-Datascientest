{
 "cells": [
  {
   "cell_type": "code",
   "execution_count": 76,
   "metadata": {},
   "outputs": [
    {
     "data": {
      "text/html": [
       "<div>\n",
       "<style scoped>\n",
       "    .dataframe tbody tr th:only-of-type {\n",
       "        vertical-align: middle;\n",
       "    }\n",
       "\n",
       "    .dataframe tbody tr th {\n",
       "        vertical-align: top;\n",
       "    }\n",
       "\n",
       "    .dataframe thead th {\n",
       "        text-align: right;\n",
       "    }\n",
       "</style>\n",
       "<table border=\"1\" class=\"dataframe\">\n",
       "  <thead>\n",
       "    <tr style=\"text-align: right;\">\n",
       "      <th></th>\n",
       "      <th>Unnamed: 0</th>\n",
       "      <th>date</th>\n",
       "      <th>sender</th>\n",
       "      <th>recipient1</th>\n",
       "      <th>subject</th>\n",
       "      <th>text</th>\n",
       "    </tr>\n",
       "  </thead>\n",
       "  <tbody>\n",
       "    <tr>\n",
       "      <th>0</th>\n",
       "      <td>0</td>\n",
       "      <td>2001-05-14 16:39:00-07:00</td>\n",
       "      <td>phillip.allen@enron.com</td>\n",
       "      <td>tim.belden@enron.com</td>\n",
       "      <td>NaN</td>\n",
       "      <td>['', 'Here is our forecast', '', ' ']</td>\n",
       "    </tr>\n",
       "    <tr>\n",
       "      <th>1</th>\n",
       "      <td>1</td>\n",
       "      <td>2001-05-04 13:51:00-07:00</td>\n",
       "      <td>phillip.allen@enron.com</td>\n",
       "      <td>john.lavorato@enron.com</td>\n",
       "      <td>Re:</td>\n",
       "      <td>['', 'Traveling to have a business meeting tak...</td>\n",
       "    </tr>\n",
       "    <tr>\n",
       "      <th>2</th>\n",
       "      <td>2</td>\n",
       "      <td>2000-10-18 03:00:00-07:00</td>\n",
       "      <td>phillip.allen@enron.com</td>\n",
       "      <td>leah.arsdall@enron.com</td>\n",
       "      <td>Re: test</td>\n",
       "      <td>['', 'test successful.  way to go!!!']</td>\n",
       "    </tr>\n",
       "    <tr>\n",
       "      <th>3</th>\n",
       "      <td>3</td>\n",
       "      <td>2000-10-23 06:13:00-07:00</td>\n",
       "      <td>phillip.allen@enron.com</td>\n",
       "      <td>randall.gay@enron.com</td>\n",
       "      <td>NaN</td>\n",
       "      <td>['', 'Randy,', '', ' Can you send me a schedul...</td>\n",
       "    </tr>\n",
       "    <tr>\n",
       "      <th>4</th>\n",
       "      <td>4</td>\n",
       "      <td>2000-08-31 05:07:00-07:00</td>\n",
       "      <td>phillip.allen@enron.com</td>\n",
       "      <td>greg.piper@enron.com</td>\n",
       "      <td>Re: Hello</td>\n",
       "      <td>['', \"Let's shoot for Tuesday at 11:45.  \"]</td>\n",
       "    </tr>\n",
       "  </tbody>\n",
       "</table>\n",
       "</div>"
      ],
      "text/plain": [
       "   Unnamed: 0                       date                   sender  \\\n",
       "0           0  2001-05-14 16:39:00-07:00  phillip.allen@enron.com   \n",
       "1           1  2001-05-04 13:51:00-07:00  phillip.allen@enron.com   \n",
       "2           2  2000-10-18 03:00:00-07:00  phillip.allen@enron.com   \n",
       "3           3  2000-10-23 06:13:00-07:00  phillip.allen@enron.com   \n",
       "4           4  2000-08-31 05:07:00-07:00  phillip.allen@enron.com   \n",
       "\n",
       "                recipient1    subject  \\\n",
       "0     tim.belden@enron.com        NaN   \n",
       "1  john.lavorato@enron.com        Re:   \n",
       "2   leah.arsdall@enron.com   Re: test   \n",
       "3    randall.gay@enron.com        NaN   \n",
       "4     greg.piper@enron.com  Re: Hello   \n",
       "\n",
       "                                                text  \n",
       "0              ['', 'Here is our forecast', '', ' ']  \n",
       "1  ['', 'Traveling to have a business meeting tak...  \n",
       "2             ['', 'test successful.  way to go!!!']  \n",
       "3  ['', 'Randy,', '', ' Can you send me a schedul...  \n",
       "4        ['', \"Let's shoot for Tuesday at 11:45.  \"]  "
      ]
     },
     "execution_count": 76,
     "metadata": {},
     "output_type": "execute_result"
    }
   ],
   "source": [
    "import pandas as pd\n",
    "# Pour limiter les temps de calcul on travaille uniquement sur les 'nrows' premiers mails\n",
    "df = pd.read_csv(\"/Users/franckglastre/emaildata_100000_0.csv\", nrows=200)\n",
    "#df = pd.read_csv(\"emaildata_100000_0.csv\", nrows=200)\n",
    "df.head()"
   ]
  },
  {
   "cell_type": "code",
   "execution_count": 77,
   "metadata": {},
   "outputs": [],
   "source": [
    "df = df.rename(columns={'sender': 'from', 'recipient1': 'to','subject': 'header', 'text': 'body'})\n"
   ]
  },
  {
   "cell_type": "code",
   "execution_count": 78,
   "metadata": {},
   "outputs": [],
   "source": [
    "# préparation du corpus de mots avec fonction de nettoyage\n",
    "# prend une string / retourne une string\n",
    "\n",
    "import re\n",
    "def data_cleanstr(string):\n",
    "    r = re.compile(r'[a-zA-Z0-9.-]*@[a-zA-Z0-9.-]*')\n",
    "    tok=r.sub('mail', string)\n",
    "    \n",
    "    r = re.compile(r\"([^a-zA-Z]+)\")\n",
    "    tok1=r.sub(' ', tok)\n",
    "    return tok1\n",
    "    \n",
    "    "
   ]
  },
  {
   "cell_type": "code",
   "execution_count": 79,
   "metadata": {},
   "outputs": [],
   "source": [
    "# préparation fonction stopwords\n",
    "# prend une string / retourne une string\n",
    "\n",
    "\n",
    "def remove_stop_words(text):\n",
    "    import spacy\n",
    "    from spacy.lang.en.stop_words import STOP_WORDS\n",
    "    stopwords=list(STOP_WORDS)\n",
    "    lst=[]\n",
    "\n",
    "    for token in text.split():\n",
    "        if token.lower() not in stopwords:    #checking whether the word is not \n",
    "            lst.append(token)                    #present in the stopword list.      \n",
    "            result = ' '.join(lst)\n",
    "    return result"
   ]
  },
  {
   "cell_type": "code",
   "execution_count": 80,
   "metadata": {},
   "outputs": [],
   "source": [
    "# tokenisation du corpus de mots, utilisation de la fonction de nettoyage et mise en minuscules\n",
    "# prend retourne un dataframe / retourne une liste\n",
    "\n",
    "def tokenize_mots(df):    \n",
    "    texte=[]\n",
    "    phrases=\"\"\n",
    "    from nltk.tokenize import word_tokenize\n",
    "\n",
    "    for i in df['body']:\n",
    "        phrases+=i  \n",
    "    a=data_cleanstr(str(phrases))\n",
    "    mots=word_tokenize(a)\n",
    "    mots=[i.lower() for i in mots]\n",
    "    return mots\n",
    "\n",
    "# création liste mots pour corpus\n",
    "mots=tokenize_mots(df)\n",
    "\n",
    "# création liste mots pour corpus sans Stopwords\n",
    "from spacy.lang.en.stop_words import STOP_WORDS\n",
    "stopwords=list(STOP_WORDS)\n",
    "for mot in mots:\n",
    "    if mot not in stopwords:\n",
    "        mots_sans.append(mot)\n",
    "    \n"
   ]
  },
  {
   "cell_type": "code",
   "execution_count": 81,
   "metadata": {},
   "outputs": [],
   "source": [
    "# lematisation du corpus, 2 ere ligne à réactiver si besoin\n",
    "# prend une liste / retourne une liste\n",
    "\n",
    "#import nltk\n",
    "#nltk.download('wordnet')\n",
    "\n",
    "def lematize_mots(corpus):\n",
    "    from nltk.stem import WordNetLemmatizer\n",
    "\n",
    "    # Initialiser un lemmatiseur\n",
    "    wordnet_lemmatizer = WordNetLemmatizer()\n",
    "\n",
    "    #Calculer le lemme du mot meeting\n",
    "    corpus=[]\n",
    "    for mot in mots_sans:\n",
    "        a=\"\"\n",
    "        a=wordnet_lemmatizer.lemmatize(mot)\n",
    "        corpus.append(a)\n",
    "    return corpus\n",
    "\n",
    "\n",
    "# création liste pour corpus\n",
    "corpus=lematize_mots(mots)\n",
    "corpus_sans=lematize_mots(mots_sans)"
   ]
  },
  {
   "cell_type": "code",
   "execution_count": 82,
   "metadata": {},
   "outputs": [],
   "source": [
    "# vectorisation du corpus de mots\n",
    "# retourne un dictionnaire\n",
    "\n",
    "def bagofwords(corpus):\n",
    "    from sklearn.feature_extraction.text import CountVectorizer\n",
    "\n",
    "    # Créer un vectorisateur\n",
    "    vectorizer = CountVectorizer()\n",
    "\n",
    "    # Appliquer Bag of words à la variable tokens\n",
    "    vectorizer.fit_transform(corpus).todense()\n",
    "\n",
    "    # Récupération des tokens\n",
    "    #tokenized = vectorizer.vocabulary_\n",
    "    #token=dict(sorted(tokenized.items(),key= lambda x:x[1],reverse=True))\n",
    "    #print(token)\n",
    "\n",
    "    return vectorizer\n",
    "\n",
    "vectorizer=bagofwords(corpus)\n",
    "vectorizer_sans=bagofwords(corpus_sans)\n"
   ]
  },
  {
   "cell_type": "code",
   "execution_count": 83,
   "metadata": {},
   "outputs": [
    {
     "data": {
      "text/plain": [
       "200"
      ]
     },
     "execution_count": 83,
     "metadata": {},
     "output_type": "execute_result"
    }
   ],
   "source": [
    "# essai de vectorisation \n",
    "\n",
    "#print(vectorizer.transform([\"laissez-vous\",\"dd\"]).toarray())\n",
    "len(df['body'])"
   ]
  },
  {
   "cell_type": "code",
   "execution_count": 84,
   "metadata": {},
   "outputs": [],
   "source": [
    "# vectorisation de chaque email 1 par 1 et enregistrement dans une colonne dédiée body_vect, au passage création de body_clean\n",
    "\n",
    "texte=[]\n",
    "df['body_clean']=\"\"\n",
    "df[\"body_vect\"]=\"\"\n",
    "df[\"body_vect_sans\"]=\"\"\n",
    "for i,j in enumerate(df['body']):\n",
    "    text=data_cleanstr(str(j))\n",
    "    df.loc[i,\"body_clean\"]=text\n",
    "    df.loc[i,\"body_vect\"]=[vectorizer.transform([text]).toarray()]\n",
    "    df.loc[i,\"body_vect_sans\"]=[vectorizer_sans.transform([text]).toarray()]\n",
    "        \n",
    "        \n",
    " \n",
    "# liste contenant le corpus de mots, le premier avec les stopwords, le second sans les stopswords --> épuré des chiffres,\n",
    "# et des signes de punctuations ou autres\n",
    "\n",
    "\n",
    "\n",
    "\n"
   ]
  },
  {
   "cell_type": "code",
   "execution_count": 85,
   "metadata": {},
   "outputs": [
    {
     "data": {
      "text/html": [
       "<div>\n",
       "<style scoped>\n",
       "    .dataframe tbody tr th:only-of-type {\n",
       "        vertical-align: middle;\n",
       "    }\n",
       "\n",
       "    .dataframe tbody tr th {\n",
       "        vertical-align: top;\n",
       "    }\n",
       "\n",
       "    .dataframe thead th {\n",
       "        text-align: right;\n",
       "    }\n",
       "</style>\n",
       "<table border=\"1\" class=\"dataframe\">\n",
       "  <thead>\n",
       "    <tr style=\"text-align: right;\">\n",
       "      <th></th>\n",
       "      <th>Unnamed: 0</th>\n",
       "      <th>date</th>\n",
       "      <th>from</th>\n",
       "      <th>to</th>\n",
       "      <th>header</th>\n",
       "      <th>body</th>\n",
       "      <th>body_clean</th>\n",
       "      <th>body_vect</th>\n",
       "      <th>body_vect_sans</th>\n",
       "      <th>body_vect2</th>\n",
       "      <th>body_vect_sans2</th>\n",
       "    </tr>\n",
       "  </thead>\n",
       "  <tbody>\n",
       "    <tr>\n",
       "      <th>1</th>\n",
       "      <td>1</td>\n",
       "      <td>2001-05-04 13:51:00-07:00</td>\n",
       "      <td>phillip.allen@enron.com</td>\n",
       "      <td>john.lavorato@enron.com</td>\n",
       "      <td>Re:</td>\n",
       "      <td>['', 'Traveling to have a business meeting tak...</td>\n",
       "      <td>Traveling to have a business meeting takes th...</td>\n",
       "      <td>[[0, 0, 0, 0, 0, 0, 0, 0, 0, 0, 0, 0, 0, 0, 0,...</td>\n",
       "      <td>[[0, 0, 0, 0, 0, 0, 0, 0, 0, 0, 0, 0, 0, 0, 0,...</td>\n",
       "      <td>[0, 0, 0, 0, 0, 0, 0, 0, 0, 0, 0, 0, 0, 0, 0, ...</td>\n",
       "      <td>[0, 0, 0, 0, 0, 0, 0, 0, 0, 0, 0, 0, 0, 0, 0, ...</td>\n",
       "    </tr>\n",
       "    <tr>\n",
       "      <th>2</th>\n",
       "      <td>2</td>\n",
       "      <td>2000-10-18 03:00:00-07:00</td>\n",
       "      <td>phillip.allen@enron.com</td>\n",
       "      <td>leah.arsdall@enron.com</td>\n",
       "      <td>Re: test</td>\n",
       "      <td>['', 'test successful.  way to go!!!']</td>\n",
       "      <td>test successful way to go</td>\n",
       "      <td>[[0, 0, 0, 0, 0, 0, 0, 0, 0, 0, 0, 0, 0, 0, 0,...</td>\n",
       "      <td>[[0, 0, 0, 0, 0, 0, 0, 0, 0, 0, 0, 0, 0, 0, 0,...</td>\n",
       "      <td>[0, 0, 0, 0, 0, 0, 0, 0, 0, 0, 0, 0, 0, 0, 0, ...</td>\n",
       "      <td>[0, 0, 0, 0, 0, 0, 0, 0, 0, 0, 0, 0, 0, 0, 0, ...</td>\n",
       "    </tr>\n",
       "    <tr>\n",
       "      <th>4</th>\n",
       "      <td>4</td>\n",
       "      <td>2000-08-31 05:07:00-07:00</td>\n",
       "      <td>phillip.allen@enron.com</td>\n",
       "      <td>greg.piper@enron.com</td>\n",
       "      <td>Re: Hello</td>\n",
       "      <td>['', \"Let's shoot for Tuesday at 11:45.  \"]</td>\n",
       "      <td>Let s shoot for Tuesday at</td>\n",
       "      <td>[[0, 0, 0, 0, 0, 0, 0, 0, 0, 0, 0, 0, 0, 0, 0,...</td>\n",
       "      <td>[[0, 0, 0, 0, 0, 0, 0, 0, 0, 0, 0, 0, 0, 0, 0,...</td>\n",
       "      <td>[0, 0, 0, 0, 0, 0, 0, 0, 0, 0, 0, 0, 0, 0, 0, ...</td>\n",
       "      <td>[0, 0, 0, 0, 0, 0, 0, 0, 0, 0, 0, 0, 0, 0, 0, ...</td>\n",
       "    </tr>\n",
       "    <tr>\n",
       "      <th>5</th>\n",
       "      <td>5</td>\n",
       "      <td>2000-08-31 04:17:00-07:00</td>\n",
       "      <td>phillip.allen@enron.com</td>\n",
       "      <td>greg.piper@enron.com</td>\n",
       "      <td>Re: Hello</td>\n",
       "      <td>['', 'Greg,', '', ' How about either next Tues...</td>\n",
       "      <td>Greg How about either next Tuesday or Thursda...</td>\n",
       "      <td>[[0, 0, 0, 0, 0, 0, 0, 0, 0, 0, 0, 0, 0, 0, 0,...</td>\n",
       "      <td>[[0, 0, 0, 0, 0, 0, 0, 0, 0, 0, 0, 0, 0, 0, 0,...</td>\n",
       "      <td>[0, 0, 0, 0, 0, 0, 0, 0, 0, 0, 0, 0, 0, 0, 0, ...</td>\n",
       "      <td>[0, 0, 0, 0, 0, 0, 0, 0, 0, 0, 0, 0, 0, 0, 0, ...</td>\n",
       "    </tr>\n",
       "    <tr>\n",
       "      <th>7</th>\n",
       "      <td>7</td>\n",
       "      <td>2000-07-14 06:59:00-07:00</td>\n",
       "      <td>phillip.allen@enron.com</td>\n",
       "      <td>joyce.teixeira@enron.com</td>\n",
       "      <td>Re: PRC review - phone calls</td>\n",
       "      <td>['', 'any morning between 10 and 11:30']</td>\n",
       "      <td>any morning between and</td>\n",
       "      <td>[[0, 0, 0, 0, 0, 0, 0, 0, 0, 0, 0, 0, 0, 0, 0,...</td>\n",
       "      <td>[[0, 0, 0, 0, 0, 0, 0, 0, 0, 0, 0, 0, 0, 0, 0,...</td>\n",
       "      <td>[0, 0, 0, 0, 0, 0, 0, 0, 0, 0, 0, 0, 0, 0, 0, ...</td>\n",
       "      <td>[0, 0, 0, 0, 0, 0, 0, 0, 0, 0, 0, 0, 0, 0, 0, ...</td>\n",
       "    </tr>\n",
       "  </tbody>\n",
       "</table>\n",
       "</div>"
      ],
      "text/plain": [
       "   Unnamed: 0                       date                     from  \\\n",
       "1           1  2001-05-04 13:51:00-07:00  phillip.allen@enron.com   \n",
       "2           2  2000-10-18 03:00:00-07:00  phillip.allen@enron.com   \n",
       "4           4  2000-08-31 05:07:00-07:00  phillip.allen@enron.com   \n",
       "5           5  2000-08-31 04:17:00-07:00  phillip.allen@enron.com   \n",
       "7           7  2000-07-14 06:59:00-07:00  phillip.allen@enron.com   \n",
       "\n",
       "                         to                        header  \\\n",
       "1   john.lavorato@enron.com                           Re:   \n",
       "2    leah.arsdall@enron.com                      Re: test   \n",
       "4      greg.piper@enron.com                     Re: Hello   \n",
       "5      greg.piper@enron.com                     Re: Hello   \n",
       "7  joyce.teixeira@enron.com  Re: PRC review - phone calls   \n",
       "\n",
       "                                                body  \\\n",
       "1  ['', 'Traveling to have a business meeting tak...   \n",
       "2             ['', 'test successful.  way to go!!!']   \n",
       "4        ['', \"Let's shoot for Tuesday at 11:45.  \"]   \n",
       "5  ['', 'Greg,', '', ' How about either next Tues...   \n",
       "7           ['', 'any morning between 10 and 11:30']   \n",
       "\n",
       "                                          body_clean  \\\n",
       "1   Traveling to have a business meeting takes th...   \n",
       "2                         test successful way to go    \n",
       "4                        Let s shoot for Tuesday at    \n",
       "5   Greg How about either next Tuesday or Thursda...   \n",
       "7                           any morning between and    \n",
       "\n",
       "                                           body_vect  \\\n",
       "1  [[0, 0, 0, 0, 0, 0, 0, 0, 0, 0, 0, 0, 0, 0, 0,...   \n",
       "2  [[0, 0, 0, 0, 0, 0, 0, 0, 0, 0, 0, 0, 0, 0, 0,...   \n",
       "4  [[0, 0, 0, 0, 0, 0, 0, 0, 0, 0, 0, 0, 0, 0, 0,...   \n",
       "5  [[0, 0, 0, 0, 0, 0, 0, 0, 0, 0, 0, 0, 0, 0, 0,...   \n",
       "7  [[0, 0, 0, 0, 0, 0, 0, 0, 0, 0, 0, 0, 0, 0, 0,...   \n",
       "\n",
       "                                      body_vect_sans  \\\n",
       "1  [[0, 0, 0, 0, 0, 0, 0, 0, 0, 0, 0, 0, 0, 0, 0,...   \n",
       "2  [[0, 0, 0, 0, 0, 0, 0, 0, 0, 0, 0, 0, 0, 0, 0,...   \n",
       "4  [[0, 0, 0, 0, 0, 0, 0, 0, 0, 0, 0, 0, 0, 0, 0,...   \n",
       "5  [[0, 0, 0, 0, 0, 0, 0, 0, 0, 0, 0, 0, 0, 0, 0,...   \n",
       "7  [[0, 0, 0, 0, 0, 0, 0, 0, 0, 0, 0, 0, 0, 0, 0,...   \n",
       "\n",
       "                                          body_vect2  \\\n",
       "1  [0, 0, 0, 0, 0, 0, 0, 0, 0, 0, 0, 0, 0, 0, 0, ...   \n",
       "2  [0, 0, 0, 0, 0, 0, 0, 0, 0, 0, 0, 0, 0, 0, 0, ...   \n",
       "4  [0, 0, 0, 0, 0, 0, 0, 0, 0, 0, 0, 0, 0, 0, 0, ...   \n",
       "5  [0, 0, 0, 0, 0, 0, 0, 0, 0, 0, 0, 0, 0, 0, 0, ...   \n",
       "7  [0, 0, 0, 0, 0, 0, 0, 0, 0, 0, 0, 0, 0, 0, 0, ...   \n",
       "\n",
       "                                     body_vect_sans2  \n",
       "1  [0, 0, 0, 0, 0, 0, 0, 0, 0, 0, 0, 0, 0, 0, 0, ...  \n",
       "2  [0, 0, 0, 0, 0, 0, 0, 0, 0, 0, 0, 0, 0, 0, 0, ...  \n",
       "4  [0, 0, 0, 0, 0, 0, 0, 0, 0, 0, 0, 0, 0, 0, 0, ...  \n",
       "5  [0, 0, 0, 0, 0, 0, 0, 0, 0, 0, 0, 0, 0, 0, 0, ...  \n",
       "7  [0, 0, 0, 0, 0, 0, 0, 0, 0, 0, 0, 0, 0, 0, 0, ...  "
      ]
     },
     "execution_count": 85,
     "metadata": {},
     "output_type": "execute_result"
    }
   ],
   "source": [
    "\n",
    "df=df.dropna()\n",
    "lfunc = lambda e: e[0]\n",
    "df['body_vect2']=df['body_vect'].map(lambda x:lfunc(x))\n",
    "df['body_vect_sans2']=df['body_vect_sans'].map(lambda x:lfunc(x))\n",
    "df.head(5)"
   ]
  },
  {
   "cell_type": "code",
   "execution_count": 86,
   "metadata": {},
   "outputs": [
    {
     "data": {
      "image/png": "[encoded data removed]",
      "text/plain": [
       "<Figure size 1440x720 with 1 Axes>"
      ]
     },
     "metadata": {
      "needs_background": "light"
     },
     "output_type": "display_data"
    }
   ],
   "source": [
    "import matplotlib.pyplot as plt\n",
    "from scipy.cluster.hierarchy import dendrogram, linkage\n",
    "import numpy as np\n",
    "\n",
    "# Initialisaion de la figrue\n",
    "plt.figure(figsize=(20, 10))\n",
    "\n",
    "body_linkage = np.concatenate([i.reshape((1,-1)) for i in df.body_vect2.values], axis=0)\n",
    "Z = linkage(body_linkage, method = 'ward', metric = 'euclidean')\n",
    "\n",
    "\n",
    "plt.title(\"Dendrogramme CAH\")\n",
    "dendrogram(Z, labels = df.index, leaf_rotation = 90., color_threshold = 0)\n",
    "plt.show()"
   ]
  },
  {
   "cell_type": "code",
   "execution_count": 87,
   "metadata": {},
   "outputs": [
    {
     "data": {
      "image/png": "[encoded data removed]",
      "text/plain": [
       "<Figure size 1440x720 with 1 Axes>"
      ]
     },
     "metadata": {
      "needs_background": "light"
     },
     "output_type": "display_data"
    }
   ],
   "source": [
    "body_linkage_sans = np.concatenate([i.reshape((1,-1)) for i in df.body_vect_sans2.values], axis=0)\n",
    "Z = linkage(body_linkage, method = 'ward', metric = 'euclidean')\n",
    "\n",
    "plt.figure(figsize=(20, 10))\n",
    "plt.title(\"Dendrogramme CAH\")\n",
    "dendrogram(Z, labels = df.index, leaf_rotation = 90., color_threshold = 0)\n",
    "plt.show()"
   ]
  },
  {
   "cell_type": "code",
   "execution_count": 88,
   "metadata": {},
   "outputs": [
    {
     "data": {
      "image/png": "[encoded data removed]",
      "text/plain": [
       "<Figure size 432x288 with 1 Axes>"
      ]
     },
     "metadata": {
      "needs_background": "light"
     },
     "output_type": "display_data"
    }
   ],
   "source": [
    "from sklearn.cluster import KMeans\n",
    "Sum_of_squared_distances = []\n",
    "K = range(1,20)\n",
    "for k in K:\n",
    "   km = KMeans(n_clusters=k, max_iter=200, n_init=10, random_state=0)\n",
    "   km = km.fit(body_linkage)\n",
    "   Sum_of_squared_distances.append(km.inertia_)\n",
    "plt.plot(K, Sum_of_squared_distances, 'bx-')\n",
    "plt.xlabel('k')\n",
    "plt.ylabel('Sum_of_squared_distances')\n",
    "plt.title('Elbow Method For Optimal k')\n",
    "plt.show()"
   ]
  },
  {
   "cell_type": "code",
   "execution_count": 89,
   "metadata": {},
   "outputs": [
    {
     "data": {
      "image/png": "[encoded data removed]",
      "text/plain": [
       "<Figure size 432x288 with 1 Axes>"
      ]
     },
     "metadata": {
      "needs_background": "light"
     },
     "output_type": "display_data"
    }
   ],
   "source": [
    "from sklearn.cluster import KMeans\n",
    "Sum_of_squared_distances = []\n",
    "K = range(1,20)\n",
    "for k in K:\n",
    "   km = KMeans(n_clusters=k, max_iter=200, n_init=10, random_state=0)\n",
    "   km = km.fit(body_linkage_sans)\n",
    "   Sum_of_squared_distances.append(km.inertia_)\n",
    "plt.plot(K, Sum_of_squared_distances, 'bx-')\n",
    "plt.xlabel('k')\n",
    "plt.ylabel('Sum_of_squared_distances')\n",
    "plt.title('Elbow Method For Optimal k')\n",
    "plt.show()"
   ]
  },
  {
   "cell_type": "code",
   "execution_count": 90,
   "metadata": {},
   "outputs": [
    {
     "name": "stdout",
     "output_type": "stream",
     "text": [
      "0      0\n",
      "1      0\n",
      "2      0\n",
      "3      0\n",
      "4      0\n",
      "      ..\n",
      "134    0\n",
      "135    0\n",
      "136    0\n",
      "137    0\n",
      "138    0\n",
      "Length: 139, dtype: int32\n",
      "139\n"
     ]
    }
   ],
   "source": [
    "true_k = 3\n",
    "model = KMeans(n_clusters=true_k, init='k-means++', max_iter=200, n_init=10)\n",
    "model.fit(body_linkage)\n",
    "labels=model.labels_\n",
    "\n",
    "print(pd.Series(labels))\n",
    "print(len(df))"
   ]
  },
  {
   "cell_type": "code",
   "execution_count": 91,
   "metadata": {},
   "outputs": [
    {
     "name": "stdout",
     "output_type": "stream",
     "text": [
      "0      0\n",
      "1      0\n",
      "2      0\n",
      "3      0\n",
      "4      0\n",
      "      ..\n",
      "134    0\n",
      "135    0\n",
      "136    0\n",
      "137    0\n",
      "138    0\n",
      "Length: 139, dtype: int32\n",
      "139\n"
     ]
    }
   ],
   "source": [
    "true_k = 3\n",
    "model = KMeans(n_clusters=true_k, init='k-means++', max_iter=200, n_init=10)\n",
    "model.fit(body_linkage_sans)\n",
    "labels_sans=model.labels_\n",
    "\n",
    "print(pd.Series(labels))\n",
    "print(len(df))"
   ]
  },
  {
   "cell_type": "code",
   "execution_count": 92,
   "metadata": {},
   "outputs": [
    {
     "data": {
      "text/plain": [
       "array([ 0.,  1., nan])"
      ]
     },
     "execution_count": 92,
     "metadata": {},
     "output_type": "execute_result"
    }
   ],
   "source": [
    "df['labels']=pd.Series(labels)\n",
    "df['labels'].unique()"
   ]
  },
  {
   "cell_type": "code",
   "execution_count": 93,
   "metadata": {},
   "outputs": [
    {
     "data": {
      "text/plain": [
       "array([ 0.,  2., nan])"
      ]
     },
     "execution_count": 93,
     "metadata": {},
     "output_type": "execute_result"
    }
   ],
   "source": [
    "df['labels_sans']=pd.Series(labels_sans)\n",
    "df['labels_sans'].unique()"
   ]
  },
  {
   "cell_type": "code",
   "execution_count": 94,
   "metadata": {},
   "outputs": [
    {
     "data": {
      "text/html": [
       "<div>\n",
       "<style scoped>\n",
       "    .dataframe tbody tr th:only-of-type {\n",
       "        vertical-align: middle;\n",
       "    }\n",
       "\n",
       "    .dataframe tbody tr th {\n",
       "        vertical-align: top;\n",
       "    }\n",
       "\n",
       "    .dataframe thead th {\n",
       "        text-align: right;\n",
       "    }\n",
       "</style>\n",
       "<table border=\"1\" class=\"dataframe\">\n",
       "  <thead>\n",
       "    <tr style=\"text-align: right;\">\n",
       "      <th></th>\n",
       "      <th>body_clean</th>\n",
       "      <th>labels</th>\n",
       "    </tr>\n",
       "  </thead>\n",
       "  <tbody>\n",
       "    <tr>\n",
       "      <th>1</th>\n",
       "      <td>Traveling to have a business meeting takes th...</td>\n",
       "      <td>0.0</td>\n",
       "    </tr>\n",
       "    <tr>\n",
       "      <th>2</th>\n",
       "      <td>test successful way to go</td>\n",
       "      <td>0.0</td>\n",
       "    </tr>\n",
       "    <tr>\n",
       "      <th>4</th>\n",
       "      <td>Let s shoot for Tuesday at</td>\n",
       "      <td>0.0</td>\n",
       "    </tr>\n",
       "    <tr>\n",
       "      <th>5</th>\n",
       "      <td>Greg How about either next Tuesday or Thursda...</td>\n",
       "      <td>0.0</td>\n",
       "    </tr>\n",
       "    <tr>\n",
       "      <th>7</th>\n",
       "      <td>any morning between and</td>\n",
       "      <td>0.0</td>\n",
       "    </tr>\n",
       "    <tr>\n",
       "      <th>...</th>\n",
       "      <td>...</td>\n",
       "      <td>...</td>\n",
       "    </tr>\n",
       "    <tr>\n",
       "      <th>134</th>\n",
       "      <td>Forwarded by Phillip K Allen HOU ECT on PM tE...</td>\n",
       "      <td>0.0</td>\n",
       "    </tr>\n",
       "    <tr>\n",
       "      <th>135</th>\n",
       "      <td>I would look at properties in San Antonio or ...</td>\n",
       "      <td>0.0</td>\n",
       "    </tr>\n",
       "    <tr>\n",
       "      <th>136</th>\n",
       "      <td>Celeste I need two assoc analyst for the west...</td>\n",
       "      <td>0.0</td>\n",
       "    </tr>\n",
       "    <tr>\n",
       "      <th>137</th>\n",
       "      <td>How about Tuesday at in front of the building</td>\n",
       "      <td>0.0</td>\n",
       "    </tr>\n",
       "    <tr>\n",
       "      <th>138</th>\n",
       "      <td>please add mike grigsby to distribution list</td>\n",
       "      <td>0.0</td>\n",
       "    </tr>\n",
       "  </tbody>\n",
       "</table>\n",
       "<p>90 rows × 2 columns</p>\n",
       "</div>"
      ],
      "text/plain": [
       "                                            body_clean  labels\n",
       "1     Traveling to have a business meeting takes th...     0.0\n",
       "2                           test successful way to go      0.0\n",
       "4                          Let s shoot for Tuesday at      0.0\n",
       "5     Greg How about either next Tuesday or Thursda...     0.0\n",
       "7                             any morning between and      0.0\n",
       "..                                                 ...     ...\n",
       "134   Forwarded by Phillip K Allen HOU ECT on PM tE...     0.0\n",
       "135   I would look at properties in San Antonio or ...     0.0\n",
       "136   Celeste I need two assoc analyst for the west...     0.0\n",
       "137     How about Tuesday at in front of the building      0.0\n",
       "138      please add mike grigsby to distribution list      0.0\n",
       "\n",
       "[90 rows x 2 columns]"
      ]
     },
     "execution_count": 94,
     "metadata": {},
     "output_type": "execute_result"
    }
   ],
   "source": [
    "df[df['labels']==0][['body_clean','labels']]"
   ]
  },
  {
   "cell_type": "code",
   "execution_count": 95,
   "metadata": {},
   "outputs": [
    {
     "data": {
      "text/html": [
       "<div>\n",
       "<style scoped>\n",
       "    .dataframe tbody tr th:only-of-type {\n",
       "        vertical-align: middle;\n",
       "    }\n",
       "\n",
       "    .dataframe tbody tr th {\n",
       "        vertical-align: top;\n",
       "    }\n",
       "\n",
       "    .dataframe thead th {\n",
       "        text-align: right;\n",
       "    }\n",
       "</style>\n",
       "<table border=\"1\" class=\"dataframe\">\n",
       "  <thead>\n",
       "    <tr style=\"text-align: right;\">\n",
       "      <th></th>\n",
       "      <th>body_clean</th>\n",
       "      <th>labels_sans</th>\n",
       "    </tr>\n",
       "  </thead>\n",
       "  <tbody>\n",
       "    <tr>\n",
       "      <th>1</th>\n",
       "      <td>Traveling to have a business meeting takes th...</td>\n",
       "      <td>0.0</td>\n",
       "    </tr>\n",
       "    <tr>\n",
       "      <th>2</th>\n",
       "      <td>test successful way to go</td>\n",
       "      <td>0.0</td>\n",
       "    </tr>\n",
       "    <tr>\n",
       "      <th>4</th>\n",
       "      <td>Let s shoot for Tuesday at</td>\n",
       "      <td>0.0</td>\n",
       "    </tr>\n",
       "    <tr>\n",
       "      <th>5</th>\n",
       "      <td>Greg How about either next Tuesday or Thursda...</td>\n",
       "      <td>0.0</td>\n",
       "    </tr>\n",
       "    <tr>\n",
       "      <th>7</th>\n",
       "      <td>any morning between and</td>\n",
       "      <td>0.0</td>\n",
       "    </tr>\n",
       "    <tr>\n",
       "      <th>...</th>\n",
       "      <td>...</td>\n",
       "      <td>...</td>\n",
       "    </tr>\n",
       "    <tr>\n",
       "      <th>134</th>\n",
       "      <td>Forwarded by Phillip K Allen HOU ECT on PM tE...</td>\n",
       "      <td>0.0</td>\n",
       "    </tr>\n",
       "    <tr>\n",
       "      <th>135</th>\n",
       "      <td>I would look at properties in San Antonio or ...</td>\n",
       "      <td>0.0</td>\n",
       "    </tr>\n",
       "    <tr>\n",
       "      <th>136</th>\n",
       "      <td>Celeste I need two assoc analyst for the west...</td>\n",
       "      <td>0.0</td>\n",
       "    </tr>\n",
       "    <tr>\n",
       "      <th>137</th>\n",
       "      <td>How about Tuesday at in front of the building</td>\n",
       "      <td>0.0</td>\n",
       "    </tr>\n",
       "    <tr>\n",
       "      <th>138</th>\n",
       "      <td>please add mike grigsby to distribution list</td>\n",
       "      <td>0.0</td>\n",
       "    </tr>\n",
       "  </tbody>\n",
       "</table>\n",
       "<p>90 rows × 2 columns</p>\n",
       "</div>"
      ],
      "text/plain": [
       "                                            body_clean  labels_sans\n",
       "1     Traveling to have a business meeting takes th...          0.0\n",
       "2                           test successful way to go           0.0\n",
       "4                          Let s shoot for Tuesday at           0.0\n",
       "5     Greg How about either next Tuesday or Thursda...          0.0\n",
       "7                             any morning between and           0.0\n",
       "..                                                 ...          ...\n",
       "134   Forwarded by Phillip K Allen HOU ECT on PM tE...          0.0\n",
       "135   I would look at properties in San Antonio or ...          0.0\n",
       "136   Celeste I need two assoc analyst for the west...          0.0\n",
       "137     How about Tuesday at in front of the building           0.0\n",
       "138      please add mike grigsby to distribution list           0.0\n",
       "\n",
       "[90 rows x 2 columns]"
      ]
     },
     "execution_count": 95,
     "metadata": {},
     "output_type": "execute_result"
    }
   ],
   "source": [
    "df[df['labels_sans']==0][['body_clean','labels_sans']]"
   ]
  },
  {
   "cell_type": "code",
   "execution_count": 98,
   "metadata": {},
   "outputs": [
    {
     "data": {
      "text/html": [
       "<div>\n",
       "<style scoped>\n",
       "    .dataframe tbody tr th:only-of-type {\n",
       "        vertical-align: middle;\n",
       "    }\n",
       "\n",
       "    .dataframe tbody tr th {\n",
       "        vertical-align: top;\n",
       "    }\n",
       "\n",
       "    .dataframe thead th {\n",
       "        text-align: right;\n",
       "    }\n",
       "</style>\n",
       "<table border=\"1\" class=\"dataframe\">\n",
       "  <thead>\n",
       "    <tr style=\"text-align: right;\">\n",
       "      <th></th>\n",
       "      <th>body_clean</th>\n",
       "      <th>labels</th>\n",
       "    </tr>\n",
       "  </thead>\n",
       "  <tbody>\n",
       "    <tr>\n",
       "      <th>103</th>\n",
       "      <td>Forwarded by Phillip K Allen HOU ECT on AM Al...</td>\n",
       "      <td>1.0</td>\n",
       "    </tr>\n",
       "  </tbody>\n",
       "</table>\n",
       "</div>"
      ],
      "text/plain": [
       "                                            body_clean  labels\n",
       "103   Forwarded by Phillip K Allen HOU ECT on AM Al...     1.0"
      ]
     },
     "execution_count": 98,
     "metadata": {},
     "output_type": "execute_result"
    }
   ],
   "source": [
    "df[df['labels']==1][['body_clean','labels']]"
   ]
  },
  {
   "cell_type": "code",
   "execution_count": 97,
   "metadata": {},
   "outputs": [
    {
     "data": {
      "text/html": [
       "<div>\n",
       "<style scoped>\n",
       "    .dataframe tbody tr th:only-of-type {\n",
       "        vertical-align: middle;\n",
       "    }\n",
       "\n",
       "    .dataframe tbody tr th {\n",
       "        vertical-align: top;\n",
       "    }\n",
       "\n",
       "    .dataframe thead th {\n",
       "        text-align: right;\n",
       "    }\n",
       "</style>\n",
       "<table border=\"1\" class=\"dataframe\">\n",
       "  <thead>\n",
       "    <tr style=\"text-align: right;\">\n",
       "      <th></th>\n",
       "      <th>body_clean</th>\n",
       "      <th>labels_sans</th>\n",
       "    </tr>\n",
       "  </thead>\n",
       "  <tbody>\n",
       "  </tbody>\n",
       "</table>\n",
       "</div>"
      ],
      "text/plain": [
       "Empty DataFrame\n",
       "Columns: [body_clean, labels_sans]\n",
       "Index: []"
      ]
     },
     "execution_count": 97,
     "metadata": {},
     "output_type": "execute_result"
    }
   ],
   "source": [
    "df[df['labels_sans']==1][['body_clean','labels_sans']]"
   ]
  },
  {
   "cell_type": "code",
   "execution_count": 99,
   "metadata": {},
   "outputs": [
    {
     "data": {
      "text/html": [
       "<div>\n",
       "<style scoped>\n",
       "    .dataframe tbody tr th:only-of-type {\n",
       "        vertical-align: middle;\n",
       "    }\n",
       "\n",
       "    .dataframe tbody tr th {\n",
       "        vertical-align: top;\n",
       "    }\n",
       "\n",
       "    .dataframe thead th {\n",
       "        text-align: right;\n",
       "    }\n",
       "</style>\n",
       "<table border=\"1\" class=\"dataframe\">\n",
       "  <thead>\n",
       "    <tr style=\"text-align: right;\">\n",
       "      <th></th>\n",
       "      <th>body_clean</th>\n",
       "      <th>labels</th>\n",
       "    </tr>\n",
       "  </thead>\n",
       "  <tbody>\n",
       "  </tbody>\n",
       "</table>\n",
       "</div>"
      ],
      "text/plain": [
       "Empty DataFrame\n",
       "Columns: [body_clean, labels]\n",
       "Index: []"
      ]
     },
     "execution_count": 99,
     "metadata": {},
     "output_type": "execute_result"
    }
   ],
   "source": [
    "df[df['labels']==2][['body_clean','labels']]"
   ]
  },
  {
   "cell_type": "code",
   "execution_count": 100,
   "metadata": {},
   "outputs": [
    {
     "data": {
      "text/html": [
       "<div>\n",
       "<style scoped>\n",
       "    .dataframe tbody tr th:only-of-type {\n",
       "        vertical-align: middle;\n",
       "    }\n",
       "\n",
       "    .dataframe tbody tr th {\n",
       "        vertical-align: top;\n",
       "    }\n",
       "\n",
       "    .dataframe thead th {\n",
       "        text-align: right;\n",
       "    }\n",
       "</style>\n",
       "<table border=\"1\" class=\"dataframe\">\n",
       "  <thead>\n",
       "    <tr style=\"text-align: right;\">\n",
       "      <th></th>\n",
       "      <th>body_clean</th>\n",
       "      <th>labels_sans</th>\n",
       "    </tr>\n",
       "  </thead>\n",
       "  <tbody>\n",
       "    <tr>\n",
       "      <th>103</th>\n",
       "      <td>Forwarded by Phillip K Allen HOU ECT on AM Al...</td>\n",
       "      <td>2.0</td>\n",
       "    </tr>\n",
       "  </tbody>\n",
       "</table>\n",
       "</div>"
      ],
      "text/plain": [
       "                                            body_clean  labels_sans\n",
       "103   Forwarded by Phillip K Allen HOU ECT on AM Al...          2.0"
      ]
     },
     "execution_count": 100,
     "metadata": {},
     "output_type": "execute_result"
    }
   ],
   "source": [
    "df[df['labels_sans']==2][['body_clean','labels_sans']]"
   ]
  },
  {
   "cell_type": "code",
   "execution_count": 25,
   "metadata": {},
   "outputs": [
    {
     "data": {
      "text/html": [
       "<div>\n",
       "<style scoped>\n",
       "    .dataframe tbody tr th:only-of-type {\n",
       "        vertical-align: middle;\n",
       "    }\n",
       "\n",
       "    .dataframe tbody tr th {\n",
       "        vertical-align: top;\n",
       "    }\n",
       "\n",
       "    .dataframe thead th {\n",
       "        text-align: right;\n",
       "    }\n",
       "</style>\n",
       "<table border=\"1\" class=\"dataframe\">\n",
       "  <thead>\n",
       "    <tr style=\"text-align: right;\">\n",
       "      <th></th>\n",
       "      <th>body_clean</th>\n",
       "      <th>labels</th>\n",
       "    </tr>\n",
       "  </thead>\n",
       "  <tbody>\n",
       "  </tbody>\n",
       "</table>\n",
       "</div>"
      ],
      "text/plain": [
       "Empty DataFrame\n",
       "Columns: [body_clean, labels]\n",
       "Index: []"
      ]
     },
     "execution_count": 25,
     "metadata": {},
     "output_type": "execute_result"
    }
   ],
   "source": [
    "df[df['labels']==3][['body_clean','labels']]"
   ]
  },
  {
   "cell_type": "code",
   "execution_count": 101,
   "metadata": {},
   "outputs": [
    {
     "data": {
      "text/html": [
       "<div>\n",
       "<style scoped>\n",
       "    .dataframe tbody tr th:only-of-type {\n",
       "        vertical-align: middle;\n",
       "    }\n",
       "\n",
       "    .dataframe tbody tr th {\n",
       "        vertical-align: top;\n",
       "    }\n",
       "\n",
       "    .dataframe thead th {\n",
       "        text-align: right;\n",
       "    }\n",
       "</style>\n",
       "<table border=\"1\" class=\"dataframe\">\n",
       "  <thead>\n",
       "    <tr style=\"text-align: right;\">\n",
       "      <th></th>\n",
       "      <th>body_clean</th>\n",
       "      <th>labels_sans</th>\n",
       "    </tr>\n",
       "  </thead>\n",
       "  <tbody>\n",
       "  </tbody>\n",
       "</table>\n",
       "</div>"
      ],
      "text/plain": [
       "Empty DataFrame\n",
       "Columns: [body_clean, labels_sans]\n",
       "Index: []"
      ]
     },
     "execution_count": 101,
     "metadata": {},
     "output_type": "execute_result"
    }
   ],
   "source": [
    "df[df['labels_sans']==3][['body_clean','labels_sans']]"
   ]
  },
  {
   "cell_type": "code",
   "execution_count": null,
   "metadata": {},
   "outputs": [],
   "source": []
  }
 ],
 "metadata": {
  "kernelspec": {
   "display_name": "Python 3 (ipykernel)",
   "language": "python",
   "name": "python3"
  },
  "language_info": {
   "codemirror_mode": {
    "name": "ipython",
    "version": 3
   },
   "file_extension": ".py",
   "mimetype": "text/x-python",
   "name": "python",
   "nbconvert_exporter": "python",
   "pygments_lexer": "ipython3",
   "version": "3.9.7"
  }
 },
 "nbformat": 4,
 "nbformat_minor": 2
}
